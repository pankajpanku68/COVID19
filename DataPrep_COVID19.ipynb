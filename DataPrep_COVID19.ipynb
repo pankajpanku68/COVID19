{
 "cells": [
  {
   "cell_type": "code",
   "execution_count": 1,
   "metadata": {},
   "outputs": [],
   "source": [
    "import pandas as pd\n",
    "import numpy as np\n",
    "import time\n",
    "import datetime\n",
    "import matplotlib.pyplot as plt\n",
    "import seaborn as sns\n",
    "import sqlite3\n",
    "import scipy.stats as st\n",
    "%matplotlib inline"
   ]
  },
  {
   "cell_type": "code",
   "execution_count": 2,
   "metadata": {},
   "outputs": [],
   "source": [
    "path_dir = 'C:\\\\Users\\\\kumapank\\\\Documents\\\\COVID-19\\\\'"
   ]
  },
  {
   "cell_type": "markdown",
   "metadata": {},
   "source": [
    "# Data Preprocessing"
   ]
  },
  {
   "cell_type": "code",
   "execution_count": 3,
   "metadata": {},
   "outputs": [
    {
     "name": "stdout",
     "output_type": "stream",
     "text": [
      "Wall time: 97.3 ms\n"
     ]
    }
   ],
   "source": [
    "%%time\n",
    "conf_df = pd.read_csv(path_dir+'\\\\input\\\\time_series_2019 Vertical Data\\\\time_series-ncov-Confirmed.csv')\n",
    "conf_df = conf_df.drop(index=0)\n",
    "dth_df = pd.read_csv(path_dir+'\\\\input\\\\time_series_2019 Vertical Data\\\\time_series-ncov-Deaths.csv')\n",
    "dth_df = dth_df.drop(index=0)\n",
    "rcv_df = pd.read_csv(path_dir+'\\\\input\\\\time_series_2019 Vertical Data\\\\time_series-ncov-Recovered.csv')\n",
    "rcv_df = rcv_df.drop(index=0)"
   ]
  },
  {
   "cell_type": "code",
   "execution_count": 4,
   "metadata": {},
   "outputs": [
    {
     "data": {
      "text/html": [
       "<div>\n",
       "<style scoped>\n",
       "    .dataframe tbody tr th:only-of-type {\n",
       "        vertical-align: middle;\n",
       "    }\n",
       "\n",
       "    .dataframe tbody tr th {\n",
       "        vertical-align: top;\n",
       "    }\n",
       "\n",
       "    .dataframe thead th {\n",
       "        text-align: right;\n",
       "    }\n",
       "</style>\n",
       "<table border=\"1\" class=\"dataframe\">\n",
       "  <thead>\n",
       "    <tr style=\"text-align: right;\">\n",
       "      <th></th>\n",
       "      <th>Province/State</th>\n",
       "      <th>Country/Region</th>\n",
       "      <th>Lat</th>\n",
       "      <th>Long</th>\n",
       "      <th>Date</th>\n",
       "      <th>Value</th>\n",
       "    </tr>\n",
       "  </thead>\n",
       "  <tbody>\n",
       "    <tr>\n",
       "      <th>1</th>\n",
       "      <td>NaN</td>\n",
       "      <td>Afghanistan</td>\n",
       "      <td>33</td>\n",
       "      <td>65</td>\n",
       "      <td>2020-03-19</td>\n",
       "      <td>22</td>\n",
       "    </tr>\n",
       "    <tr>\n",
       "      <th>2</th>\n",
       "      <td>NaN</td>\n",
       "      <td>Afghanistan</td>\n",
       "      <td>33</td>\n",
       "      <td>65</td>\n",
       "      <td>2020-03-18</td>\n",
       "      <td>22</td>\n",
       "    </tr>\n",
       "    <tr>\n",
       "      <th>3</th>\n",
       "      <td>NaN</td>\n",
       "      <td>Afghanistan</td>\n",
       "      <td>33</td>\n",
       "      <td>65</td>\n",
       "      <td>2020-03-17</td>\n",
       "      <td>22</td>\n",
       "    </tr>\n",
       "    <tr>\n",
       "      <th>4</th>\n",
       "      <td>NaN</td>\n",
       "      <td>Afghanistan</td>\n",
       "      <td>33</td>\n",
       "      <td>65</td>\n",
       "      <td>2020-03-16</td>\n",
       "      <td>21</td>\n",
       "    </tr>\n",
       "    <tr>\n",
       "      <th>5</th>\n",
       "      <td>NaN</td>\n",
       "      <td>Afghanistan</td>\n",
       "      <td>33</td>\n",
       "      <td>65</td>\n",
       "      <td>2020-03-15</td>\n",
       "      <td>16</td>\n",
       "    </tr>\n",
       "  </tbody>\n",
       "</table>\n",
       "</div>"
      ],
      "text/plain": [
       "  Province/State Country/Region Lat Long        Date Value\n",
       "1            NaN    Afghanistan  33   65  2020-03-19    22\n",
       "2            NaN    Afghanistan  33   65  2020-03-18    22\n",
       "3            NaN    Afghanistan  33   65  2020-03-17    22\n",
       "4            NaN    Afghanistan  33   65  2020-03-16    21\n",
       "5            NaN    Afghanistan  33   65  2020-03-15    16"
      ]
     },
     "execution_count": 4,
     "metadata": {},
     "output_type": "execute_result"
    }
   ],
   "source": [
    "conf_df.head()"
   ]
  },
  {
   "cell_type": "code",
   "execution_count": 5,
   "metadata": {},
   "outputs": [],
   "source": [
    "conf_df.Date = pd.to_datetime(conf_df.Date, format='%Y-%m-%d')\n",
    "dth_df.Date = pd.to_datetime(dth_df.Date, format='%Y-%m-%d')\n",
    "rcv_df.Date = pd.to_datetime(rcv_df.Date, format='%Y-%m-%d')"
   ]
  },
  {
   "cell_type": "code",
   "execution_count": 6,
   "metadata": {},
   "outputs": [
    {
     "name": "stdout",
     "output_type": "stream",
     "text": [
      "confirm data size= (27144, 6), deth data size= (27144, 6), recover data size= (27144, 6)\n"
     ]
    }
   ],
   "source": [
    "print(f\"confirm data size= {conf_df.shape}, deth data size= {dth_df.shape}, recover data size= {rcv_df.shape}\")"
   ]
  },
  {
   "cell_type": "code",
   "execution_count": 7,
   "metadata": {},
   "outputs": [],
   "source": [
    "agg_df = pd.merge(conf_df,dth_df,left_on=['Province/State','Country/Region','Lat','Long','Date'],right_on=['Province/State','Country/Region','Lat','Long','Date'],how='left')\n",
    "agg_df.columns = ['Province/State','Country/Region','Lat','Long','Date','Confirmed','Death']\n",
    "agg_df = pd.merge(agg_df,rcv_df,left_on=['Province/State','Country/Region','Lat','Long','Date'],right_on=['Province/State','Country/Region','Lat','Long','Date'],how='left')\n",
    "agg_df.columns = ['Province/State','Country/Region','Lat','Long','Date','Confirmed','Death','Recovered']"
   ]
  },
  {
   "cell_type": "code",
   "execution_count": 8,
   "metadata": {},
   "outputs": [
    {
     "data": {
      "text/html": [
       "<div>\n",
       "<style scoped>\n",
       "    .dataframe tbody tr th:only-of-type {\n",
       "        vertical-align: middle;\n",
       "    }\n",
       "\n",
       "    .dataframe tbody tr th {\n",
       "        vertical-align: top;\n",
       "    }\n",
       "\n",
       "    .dataframe thead th {\n",
       "        text-align: right;\n",
       "    }\n",
       "</style>\n",
       "<table border=\"1\" class=\"dataframe\">\n",
       "  <thead>\n",
       "    <tr style=\"text-align: right;\">\n",
       "      <th></th>\n",
       "      <th>Province/State</th>\n",
       "      <th>Country/Region</th>\n",
       "      <th>Lat</th>\n",
       "      <th>Long</th>\n",
       "      <th>Date</th>\n",
       "      <th>Confirmed</th>\n",
       "      <th>Death</th>\n",
       "      <th>Recovered</th>\n",
       "    </tr>\n",
       "  </thead>\n",
       "  <tbody>\n",
       "    <tr>\n",
       "      <th>0</th>\n",
       "      <td>NaN</td>\n",
       "      <td>Afghanistan</td>\n",
       "      <td>33</td>\n",
       "      <td>65</td>\n",
       "      <td>2020-03-19</td>\n",
       "      <td>22</td>\n",
       "      <td>0</td>\n",
       "      <td>1</td>\n",
       "    </tr>\n",
       "    <tr>\n",
       "      <th>1</th>\n",
       "      <td>NaN</td>\n",
       "      <td>Afghanistan</td>\n",
       "      <td>33</td>\n",
       "      <td>65</td>\n",
       "      <td>2020-03-18</td>\n",
       "      <td>22</td>\n",
       "      <td>0</td>\n",
       "      <td>1</td>\n",
       "    </tr>\n",
       "    <tr>\n",
       "      <th>2</th>\n",
       "      <td>NaN</td>\n",
       "      <td>Afghanistan</td>\n",
       "      <td>33</td>\n",
       "      <td>65</td>\n",
       "      <td>2020-03-17</td>\n",
       "      <td>22</td>\n",
       "      <td>0</td>\n",
       "      <td>1</td>\n",
       "    </tr>\n",
       "    <tr>\n",
       "      <th>3</th>\n",
       "      <td>NaN</td>\n",
       "      <td>Afghanistan</td>\n",
       "      <td>33</td>\n",
       "      <td>65</td>\n",
       "      <td>2020-03-16</td>\n",
       "      <td>21</td>\n",
       "      <td>0</td>\n",
       "      <td>1</td>\n",
       "    </tr>\n",
       "    <tr>\n",
       "      <th>4</th>\n",
       "      <td>NaN</td>\n",
       "      <td>Afghanistan</td>\n",
       "      <td>33</td>\n",
       "      <td>65</td>\n",
       "      <td>2020-03-15</td>\n",
       "      <td>16</td>\n",
       "      <td>0</td>\n",
       "      <td>0</td>\n",
       "    </tr>\n",
       "  </tbody>\n",
       "</table>\n",
       "</div>"
      ],
      "text/plain": [
       "  Province/State Country/Region Lat Long       Date Confirmed Death Recovered\n",
       "0            NaN    Afghanistan  33   65 2020-03-19        22     0         1\n",
       "1            NaN    Afghanistan  33   65 2020-03-18        22     0         1\n",
       "2            NaN    Afghanistan  33   65 2020-03-17        22     0         1\n",
       "3            NaN    Afghanistan  33   65 2020-03-16        21     0         1\n",
       "4            NaN    Afghanistan  33   65 2020-03-15        16     0         0"
      ]
     },
     "execution_count": 8,
     "metadata": {},
     "output_type": "execute_result"
    }
   ],
   "source": [
    "agg_df.head()"
   ]
  },
  {
   "cell_type": "code",
   "execution_count": 9,
   "metadata": {},
   "outputs": [],
   "source": [
    "agg_df = agg_df.sort_values(by=['Province/State','Country/Region','Date'],ascending=[True,True,False])\n",
    "agg_df['New_case']= agg_df.Confirmed.astype('float').diff(periods=-1)\n",
    "agg_df.loc[agg_df.Date =='2020-01-22','New_case'] = 0"
   ]
  },
  {
   "cell_type": "code",
   "execution_count": 10,
   "metadata": {},
   "outputs": [
    {
     "data": {
      "text/html": [
       "<div>\n",
       "<style scoped>\n",
       "    .dataframe tbody tr th:only-of-type {\n",
       "        vertical-align: middle;\n",
       "    }\n",
       "\n",
       "    .dataframe tbody tr th {\n",
       "        vertical-align: top;\n",
       "    }\n",
       "\n",
       "    .dataframe thead th {\n",
       "        text-align: right;\n",
       "    }\n",
       "</style>\n",
       "<table border=\"1\" class=\"dataframe\">\n",
       "  <thead>\n",
       "    <tr style=\"text-align: right;\">\n",
       "      <th></th>\n",
       "      <th>Province/State</th>\n",
       "      <th>Country/Region</th>\n",
       "      <th>Lat</th>\n",
       "      <th>Long</th>\n",
       "      <th>Date</th>\n",
       "      <th>Confirmed</th>\n",
       "      <th>Death</th>\n",
       "      <th>Recovered</th>\n",
       "      <th>New_case</th>\n",
       "    </tr>\n",
       "  </thead>\n",
       "  <tbody>\n",
       "    <tr>\n",
       "      <th>12586</th>\n",
       "      <td>Adams, IN</td>\n",
       "      <td>US</td>\n",
       "      <td>39.8522</td>\n",
       "      <td>-77.2865</td>\n",
       "      <td>2020-03-19</td>\n",
       "      <td>0</td>\n",
       "      <td>0</td>\n",
       "      <td>0</td>\n",
       "      <td>0.0</td>\n",
       "    </tr>\n",
       "    <tr>\n",
       "      <th>12587</th>\n",
       "      <td>Adams, IN</td>\n",
       "      <td>US</td>\n",
       "      <td>39.8522</td>\n",
       "      <td>-77.2865</td>\n",
       "      <td>2020-03-18</td>\n",
       "      <td>0</td>\n",
       "      <td>0</td>\n",
       "      <td>0</td>\n",
       "      <td>0.0</td>\n",
       "    </tr>\n",
       "    <tr>\n",
       "      <th>12588</th>\n",
       "      <td>Adams, IN</td>\n",
       "      <td>US</td>\n",
       "      <td>39.8522</td>\n",
       "      <td>-77.2865</td>\n",
       "      <td>2020-03-17</td>\n",
       "      <td>0</td>\n",
       "      <td>0</td>\n",
       "      <td>0</td>\n",
       "      <td>0.0</td>\n",
       "    </tr>\n",
       "    <tr>\n",
       "      <th>12589</th>\n",
       "      <td>Adams, IN</td>\n",
       "      <td>US</td>\n",
       "      <td>39.8522</td>\n",
       "      <td>-77.2865</td>\n",
       "      <td>2020-03-16</td>\n",
       "      <td>0</td>\n",
       "      <td>0</td>\n",
       "      <td>0</td>\n",
       "      <td>0.0</td>\n",
       "    </tr>\n",
       "    <tr>\n",
       "      <th>12590</th>\n",
       "      <td>Adams, IN</td>\n",
       "      <td>US</td>\n",
       "      <td>39.8522</td>\n",
       "      <td>-77.2865</td>\n",
       "      <td>2020-03-15</td>\n",
       "      <td>0</td>\n",
       "      <td>0</td>\n",
       "      <td>0</td>\n",
       "      <td>0.0</td>\n",
       "    </tr>\n",
       "  </tbody>\n",
       "</table>\n",
       "</div>"
      ],
      "text/plain": [
       "      Province/State Country/Region      Lat      Long       Date Confirmed  \\\n",
       "12586      Adams, IN             US  39.8522  -77.2865 2020-03-19         0   \n",
       "12587      Adams, IN             US  39.8522  -77.2865 2020-03-18         0   \n",
       "12588      Adams, IN             US  39.8522  -77.2865 2020-03-17         0   \n",
       "12589      Adams, IN             US  39.8522  -77.2865 2020-03-16         0   \n",
       "12590      Adams, IN             US  39.8522  -77.2865 2020-03-15         0   \n",
       "\n",
       "      Death Recovered  New_case  \n",
       "12586     0         0       0.0  \n",
       "12587     0         0       0.0  \n",
       "12588     0         0       0.0  \n",
       "12589     0         0       0.0  \n",
       "12590     0         0       0.0  "
      ]
     },
     "execution_count": 10,
     "metadata": {},
     "output_type": "execute_result"
    }
   ],
   "source": [
    "agg_df.head()"
   ]
  },
  {
   "cell_type": "markdown",
   "metadata": {},
   "source": [
    "# Growth Factor"
   ]
  },
  {
   "cell_type": "code",
   "execution_count": 11,
   "metadata": {},
   "outputs": [
    {
     "name": "stdout",
     "output_type": "stream",
     "text": [
      "Wall time: 2.16 s\n"
     ]
    },
    {
     "data": {
      "text/html": [
       "<div>\n",
       "<style scoped>\n",
       "    .dataframe tbody tr th:only-of-type {\n",
       "        vertical-align: middle;\n",
       "    }\n",
       "\n",
       "    .dataframe tbody tr th {\n",
       "        vertical-align: top;\n",
       "    }\n",
       "\n",
       "    .dataframe thead th {\n",
       "        text-align: right;\n",
       "    }\n",
       "</style>\n",
       "<table border=\"1\" class=\"dataframe\">\n",
       "  <thead>\n",
       "    <tr style=\"text-align: right;\">\n",
       "      <th></th>\n",
       "      <th>Province/State</th>\n",
       "      <th>Country/Region</th>\n",
       "      <th>Lat</th>\n",
       "      <th>Long</th>\n",
       "      <th>Date</th>\n",
       "      <th>Confirmed</th>\n",
       "      <th>Death</th>\n",
       "      <th>Recovered</th>\n",
       "      <th>New_case</th>\n",
       "      <th>Growth_Factor</th>\n",
       "    </tr>\n",
       "  </thead>\n",
       "  <tbody>\n",
       "    <tr>\n",
       "      <th>12586</th>\n",
       "      <td>Adams, IN</td>\n",
       "      <td>US</td>\n",
       "      <td>39.8522</td>\n",
       "      <td>-77.2865</td>\n",
       "      <td>2020-03-19</td>\n",
       "      <td>0</td>\n",
       "      <td>0</td>\n",
       "      <td>0</td>\n",
       "      <td>0.0</td>\n",
       "      <td>0.0</td>\n",
       "    </tr>\n",
       "    <tr>\n",
       "      <th>12587</th>\n",
       "      <td>Adams, IN</td>\n",
       "      <td>US</td>\n",
       "      <td>39.8522</td>\n",
       "      <td>-77.2865</td>\n",
       "      <td>2020-03-18</td>\n",
       "      <td>0</td>\n",
       "      <td>0</td>\n",
       "      <td>0</td>\n",
       "      <td>0.0</td>\n",
       "      <td>0.0</td>\n",
       "    </tr>\n",
       "    <tr>\n",
       "      <th>12588</th>\n",
       "      <td>Adams, IN</td>\n",
       "      <td>US</td>\n",
       "      <td>39.8522</td>\n",
       "      <td>-77.2865</td>\n",
       "      <td>2020-03-17</td>\n",
       "      <td>0</td>\n",
       "      <td>0</td>\n",
       "      <td>0</td>\n",
       "      <td>0.0</td>\n",
       "      <td>0.0</td>\n",
       "    </tr>\n",
       "    <tr>\n",
       "      <th>12589</th>\n",
       "      <td>Adams, IN</td>\n",
       "      <td>US</td>\n",
       "      <td>39.8522</td>\n",
       "      <td>-77.2865</td>\n",
       "      <td>2020-03-16</td>\n",
       "      <td>0</td>\n",
       "      <td>0</td>\n",
       "      <td>0</td>\n",
       "      <td>0.0</td>\n",
       "      <td>0.0</td>\n",
       "    </tr>\n",
       "    <tr>\n",
       "      <th>12590</th>\n",
       "      <td>Adams, IN</td>\n",
       "      <td>US</td>\n",
       "      <td>39.8522</td>\n",
       "      <td>-77.2865</td>\n",
       "      <td>2020-03-15</td>\n",
       "      <td>0</td>\n",
       "      <td>0</td>\n",
       "      <td>0</td>\n",
       "      <td>0.0</td>\n",
       "      <td>0.0</td>\n",
       "    </tr>\n",
       "  </tbody>\n",
       "</table>\n",
       "</div>"
      ],
      "text/plain": [
       "      Province/State Country/Region      Lat      Long       Date Confirmed  \\\n",
       "12586      Adams, IN             US  39.8522  -77.2865 2020-03-19         0   \n",
       "12587      Adams, IN             US  39.8522  -77.2865 2020-03-18         0   \n",
       "12588      Adams, IN             US  39.8522  -77.2865 2020-03-17         0   \n",
       "12589      Adams, IN             US  39.8522  -77.2865 2020-03-16         0   \n",
       "12590      Adams, IN             US  39.8522  -77.2865 2020-03-15         0   \n",
       "\n",
       "      Death Recovered  New_case  Growth_Factor  \n",
       "12586     0         0       0.0            0.0  \n",
       "12587     0         0       0.0            0.0  \n",
       "12588     0         0       0.0            0.0  \n",
       "12589     0         0       0.0            0.0  \n",
       "12590     0         0       0.0            0.0  "
      ]
     },
     "execution_count": 11,
     "metadata": {},
     "output_type": "execute_result"
    }
   ],
   "source": [
    "%%time\n",
    "agg_df['Growth_Factor'] = agg_df.New_case.rolling(window=2).apply(lambda x: x.iloc[0]/x.iloc[1]).replace([np.nan,np.inf],0)\n",
    "# agg_df.loc[agg_df.Date =='2020-03-17','Growth_Factor'] = None\n",
    "agg_df.head()"
   ]
  },
  {
   "cell_type": "code",
   "execution_count": 12,
   "metadata": {},
   "outputs": [],
   "source": [
    "def plot_country_growth_factor(Country):\n",
    "    temp = agg_df[agg_df['Country/Region'] == Country]\n",
    "    temp = pd.DataFrame(temp.groupby(by=['Country/Region','Date']).New_case.sum()).reset_index()\n",
    "    temp = temp.sort_values(by=['Date'],ascending=False)\n",
    "    temp['Growth_Factor'] = temp.New_case.rolling(window=2).apply(lambda x: x.iloc[0]/x.iloc[1]).replace([np.nan,np.inf],0)\n",
    "    temp.loc[temp.Date =='2020-03-18','Growth_Factor'] = None\n",
    "    sns.set(style=\"darkgrid\")\n",
    "    plt.figure(figsize=(12,5))\n",
    "    ax = sns.lineplot(x=\"Date\", y=\"Growth_Factor\", lw=1,data=temp)\n",
    "    ax.axhline(1)\n",
    "    return"
   ]
  },
  {
   "cell_type": "markdown",
   "metadata": {
    "heading_collapsed": true
   },
   "source": [
    "# COVID19: Growth Factor \n",
    "## India"
   ]
  },
  {
   "cell_type": "code",
   "execution_count": null,
   "metadata": {
    "hidden": true
   },
   "outputs": [],
   "source": [
    "plot_country_growth_factor('India')"
   ]
  },
  {
   "cell_type": "markdown",
   "metadata": {
    "hidden": true
   },
   "source": [
    "## China "
   ]
  },
  {
   "cell_type": "code",
   "execution_count": null,
   "metadata": {
    "hidden": true
   },
   "outputs": [],
   "source": [
    "plot_country_growth_factor('China')"
   ]
  },
  {
   "cell_type": "markdown",
   "metadata": {
    "hidden": true
   },
   "source": [
    "## USA "
   ]
  },
  {
   "cell_type": "code",
   "execution_count": null,
   "metadata": {
    "hidden": true
   },
   "outputs": [],
   "source": [
    "plot_country_growth_factor('US')"
   ]
  },
  {
   "cell_type": "markdown",
   "metadata": {
    "hidden": true
   },
   "source": [
    "## Italy"
   ]
  },
  {
   "cell_type": "code",
   "execution_count": null,
   "metadata": {
    "hidden": true
   },
   "outputs": [],
   "source": [
    "plot_country_growth_factor('Italy')"
   ]
  },
  {
   "cell_type": "markdown",
   "metadata": {},
   "source": [
    "# COVID19 Testing Globally"
   ]
  },
  {
   "cell_type": "code",
   "execution_count": 13,
   "metadata": {},
   "outputs": [
    {
     "data": {
      "text/html": [
       "<div>\n",
       "<style scoped>\n",
       "    .dataframe tbody tr th:only-of-type {\n",
       "        vertical-align: middle;\n",
       "    }\n",
       "\n",
       "    .dataframe tbody tr th {\n",
       "        vertical-align: top;\n",
       "    }\n",
       "\n",
       "    .dataframe thead th {\n",
       "        text-align: right;\n",
       "    }\n",
       "</style>\n",
       "<table border=\"1\" class=\"dataframe\">\n",
       "  <thead>\n",
       "    <tr style=\"text-align: right;\">\n",
       "      <th></th>\n",
       "      <th>Entity</th>\n",
       "      <th>Code</th>\n",
       "      <th>Year</th>\n",
       "      <th>Total COVID-19 tests</th>\n",
       "    </tr>\n",
       "  </thead>\n",
       "  <tbody>\n",
       "    <tr>\n",
       "      <th>0</th>\n",
       "      <td>Armenia</td>\n",
       "      <td>ARM</td>\n",
       "      <td>55</td>\n",
       "      <td>694</td>\n",
       "    </tr>\n",
       "    <tr>\n",
       "      <th>1</th>\n",
       "      <td>Australia - Government of the Australian Capit...</td>\n",
       "      <td>AUS</td>\n",
       "      <td>56</td>\n",
       "      <td>1391</td>\n",
       "    </tr>\n",
       "    <tr>\n",
       "      <th>2</th>\n",
       "      <td>Australia - New South Wales</td>\n",
       "      <td>AUS</td>\n",
       "      <td>56</td>\n",
       "      <td>30244</td>\n",
       "    </tr>\n",
       "    <tr>\n",
       "      <th>3</th>\n",
       "      <td>Austria</td>\n",
       "      <td>AUT</td>\n",
       "      <td>56</td>\n",
       "      <td>10278</td>\n",
       "    </tr>\n",
       "    <tr>\n",
       "      <th>4</th>\n",
       "      <td>Bahrain</td>\n",
       "      <td>BHR</td>\n",
       "      <td>56</td>\n",
       "      <td>13553</td>\n",
       "    </tr>\n",
       "  </tbody>\n",
       "</table>\n",
       "</div>"
      ],
      "text/plain": [
       "                                              Entity Code  Year  \\\n",
       "0                                            Armenia  ARM    55   \n",
       "1  Australia - Government of the Australian Capit...  AUS    56   \n",
       "2                        Australia - New South Wales  AUS    56   \n",
       "3                                            Austria  AUT    56   \n",
       "4                                            Bahrain  BHR    56   \n",
       "\n",
       "   Total COVID-19 tests  \n",
       "0                   694  \n",
       "1                  1391  \n",
       "2                 30244  \n",
       "3                 10278  \n",
       "4                 13553  "
      ]
     },
     "execution_count": 13,
     "metadata": {},
     "output_type": "execute_result"
    }
   ],
   "source": [
    "testing_df = pd.read_csv(path_dir+'\\\\input\\\\covid-19-tests-country.csv')\n",
    "testing_df.head()"
   ]
  },
  {
   "cell_type": "code",
   "execution_count": 14,
   "metadata": {},
   "outputs": [
    {
     "data": {
      "text/html": [
       "<div>\n",
       "<style scoped>\n",
       "    .dataframe tbody tr th:only-of-type {\n",
       "        vertical-align: middle;\n",
       "    }\n",
       "\n",
       "    .dataframe tbody tr th {\n",
       "        vertical-align: top;\n",
       "    }\n",
       "\n",
       "    .dataframe thead th {\n",
       "        text-align: right;\n",
       "    }\n",
       "</style>\n",
       "<table border=\"1\" class=\"dataframe\">\n",
       "  <thead>\n",
       "    <tr style=\"text-align: right;\">\n",
       "      <th></th>\n",
       "      <th>Code</th>\n",
       "      <th>Total COVID-19 tests</th>\n",
       "    </tr>\n",
       "  </thead>\n",
       "  <tbody>\n",
       "    <tr>\n",
       "      <th>0</th>\n",
       "      <td>ARE</td>\n",
       "      <td>125000</td>\n",
       "    </tr>\n",
       "    <tr>\n",
       "      <th>1</th>\n",
       "      <td>ARM</td>\n",
       "      <td>694</td>\n",
       "    </tr>\n",
       "    <tr>\n",
       "      <th>2</th>\n",
       "      <td>AUS</td>\n",
       "      <td>31635</td>\n",
       "    </tr>\n",
       "    <tr>\n",
       "      <th>3</th>\n",
       "      <td>AUT</td>\n",
       "      <td>10278</td>\n",
       "    </tr>\n",
       "    <tr>\n",
       "      <th>4</th>\n",
       "      <td>BEL</td>\n",
       "      <td>4225</td>\n",
       "    </tr>\n",
       "  </tbody>\n",
       "</table>\n",
       "</div>"
      ],
      "text/plain": [
       "  Code  Total COVID-19 tests\n",
       "0  ARE                125000\n",
       "1  ARM                   694\n",
       "2  AUS                 31635\n",
       "3  AUT                 10278\n",
       "4  BEL                  4225"
      ]
     },
     "execution_count": 14,
     "metadata": {},
     "output_type": "execute_result"
    }
   ],
   "source": [
    "testing_df = pd.DataFrame(testing_df.groupby(by=['Code'])['Total COVID-19 tests'].sum()).reset_index()\n",
    "testing_df.head()"
   ]
  },
  {
   "cell_type": "code",
   "execution_count": 15,
   "metadata": {},
   "outputs": [],
   "source": [
    "# agg_df = pd.merge(agg_df,testing_df,left_on='Country Code',right_on='Code',how='left')\n",
    "# agg_df.head()"
   ]
  },
  {
   "cell_type": "markdown",
   "metadata": {},
   "source": [
    "# Adding Population Density\n",
    "\n",
    "Recoded Per square KM"
   ]
  },
  {
   "cell_type": "code",
   "execution_count": 16,
   "metadata": {},
   "outputs": [
    {
     "data": {
      "text/plain": [
       "(264, 65)"
      ]
     },
     "execution_count": 16,
     "metadata": {},
     "output_type": "execute_result"
    }
   ],
   "source": [
    "filename = path_dir+'\\\\input\\\\API_EN.POP.DNST_DS2_en_csv_v2_868885\\\\API_EN.POP.DNST_DS2_en_csv_v2_868885.csv'\n",
    "pop_dst = pd.read_csv(filename,skiprows=3)\n",
    "pop_dst.shape"
   ]
  },
  {
   "cell_type": "code",
   "execution_count": 17,
   "metadata": {},
   "outputs": [
    {
     "data": {
      "text/html": [
       "<div>\n",
       "<style scoped>\n",
       "    .dataframe tbody tr th:only-of-type {\n",
       "        vertical-align: middle;\n",
       "    }\n",
       "\n",
       "    .dataframe tbody tr th {\n",
       "        vertical-align: top;\n",
       "    }\n",
       "\n",
       "    .dataframe thead th {\n",
       "        text-align: right;\n",
       "    }\n",
       "</style>\n",
       "<table border=\"1\" class=\"dataframe\">\n",
       "  <thead>\n",
       "    <tr style=\"text-align: right;\">\n",
       "      <th></th>\n",
       "      <th>Country Name</th>\n",
       "      <th>Country Code</th>\n",
       "      <th>density_2014</th>\n",
       "      <th>density_2015</th>\n",
       "      <th>density_2016</th>\n",
       "      <th>density_2017</th>\n",
       "      <th>density_2018</th>\n",
       "    </tr>\n",
       "  </thead>\n",
       "  <tbody>\n",
       "    <tr>\n",
       "      <th>0</th>\n",
       "      <td>Aruba</td>\n",
       "      <td>ABW</td>\n",
       "      <td>576.522222</td>\n",
       "      <td>579.672222</td>\n",
       "      <td>582.622222</td>\n",
       "      <td>585.366667</td>\n",
       "      <td>588.027778</td>\n",
       "    </tr>\n",
       "    <tr>\n",
       "      <th>1</th>\n",
       "      <td>Afghanistan</td>\n",
       "      <td>AFG</td>\n",
       "      <td>51.114778</td>\n",
       "      <td>52.712072</td>\n",
       "      <td>54.197114</td>\n",
       "      <td>55.595993</td>\n",
       "      <td>56.937760</td>\n",
       "    </tr>\n",
       "    <tr>\n",
       "      <th>2</th>\n",
       "      <td>Angola</td>\n",
       "      <td>AGO</td>\n",
       "      <td>21.610475</td>\n",
       "      <td>22.366552</td>\n",
       "      <td>23.135064</td>\n",
       "      <td>23.916538</td>\n",
       "      <td>24.713052</td>\n",
       "    </tr>\n",
       "    <tr>\n",
       "      <th>3</th>\n",
       "      <td>Albania</td>\n",
       "      <td>ALB</td>\n",
       "      <td>105.441752</td>\n",
       "      <td>105.135146</td>\n",
       "      <td>104.967190</td>\n",
       "      <td>104.870693</td>\n",
       "      <td>104.612263</td>\n",
       "    </tr>\n",
       "    <tr>\n",
       "      <th>4</th>\n",
       "      <td>Andorra</td>\n",
       "      <td>AND</td>\n",
       "      <td>168.538298</td>\n",
       "      <td>165.980851</td>\n",
       "      <td>164.461702</td>\n",
       "      <td>163.831915</td>\n",
       "      <td>163.842553</td>\n",
       "    </tr>\n",
       "  </tbody>\n",
       "</table>\n",
       "</div>"
      ],
      "text/plain": [
       "  Country Name Country Code  density_2014  density_2015  density_2016  \\\n",
       "0        Aruba          ABW    576.522222    579.672222    582.622222   \n",
       "1  Afghanistan          AFG     51.114778     52.712072     54.197114   \n",
       "2       Angola          AGO     21.610475     22.366552     23.135064   \n",
       "3      Albania          ALB    105.441752    105.135146    104.967190   \n",
       "4      Andorra          AND    168.538298    165.980851    164.461702   \n",
       "\n",
       "   density_2017  density_2018  \n",
       "0    585.366667    588.027778  \n",
       "1     55.595993     56.937760  \n",
       "2     23.916538     24.713052  \n",
       "3    104.870693    104.612263  \n",
       "4    163.831915    163.842553  "
      ]
     },
     "execution_count": 17,
     "metadata": {},
     "output_type": "execute_result"
    }
   ],
   "source": [
    "density_col = ['Country Name','Country Code','2014','2015','2016','2017','2018']\n",
    "pop_dst = pop_dst[density_col]\n",
    "density_col = ['Country Name','Country Code','density_2014','density_2015','density_2016','density_2017','density_2018']\n",
    "pop_dst.columns = density_col\n",
    "del(density_col)\n",
    "pop_dst.head()"
   ]
  },
  {
   "cell_type": "code",
   "execution_count": 18,
   "metadata": {},
   "outputs": [],
   "source": [
    "country_code=pd.read_csv(path_dir+'input\\\\Country_Code_V1.csv')"
   ]
  },
  {
   "cell_type": "code",
   "execution_count": 19,
   "metadata": {},
   "outputs": [
    {
     "data": {
      "text/html": [
       "<div>\n",
       "<style scoped>\n",
       "    .dataframe tbody tr th:only-of-type {\n",
       "        vertical-align: middle;\n",
       "    }\n",
       "\n",
       "    .dataframe tbody tr th {\n",
       "        vertical-align: top;\n",
       "    }\n",
       "\n",
       "    .dataframe thead th {\n",
       "        text-align: right;\n",
       "    }\n",
       "</style>\n",
       "<table border=\"1\" class=\"dataframe\">\n",
       "  <thead>\n",
       "    <tr style=\"text-align: right;\">\n",
       "      <th></th>\n",
       "      <th>Province/State</th>\n",
       "      <th>Country/Region</th>\n",
       "      <th>Lat</th>\n",
       "      <th>Long</th>\n",
       "      <th>Date</th>\n",
       "      <th>Confirmed</th>\n",
       "      <th>Death</th>\n",
       "      <th>Recovered</th>\n",
       "      <th>New_case</th>\n",
       "      <th>Growth_Factor</th>\n",
       "      <th>Country Code</th>\n",
       "      <th>density_2018</th>\n",
       "    </tr>\n",
       "  </thead>\n",
       "  <tbody>\n",
       "    <tr>\n",
       "      <th>0</th>\n",
       "      <td>Adams, IN</td>\n",
       "      <td>US</td>\n",
       "      <td>39.8522</td>\n",
       "      <td>-77.2865</td>\n",
       "      <td>2020-03-19</td>\n",
       "      <td>0</td>\n",
       "      <td>0</td>\n",
       "      <td>0</td>\n",
       "      <td>0.0</td>\n",
       "      <td>0.0</td>\n",
       "      <td>USA</td>\n",
       "      <td>35.766089</td>\n",
       "    </tr>\n",
       "    <tr>\n",
       "      <th>1</th>\n",
       "      <td>Adams, IN</td>\n",
       "      <td>US</td>\n",
       "      <td>39.8522</td>\n",
       "      <td>-77.2865</td>\n",
       "      <td>2020-03-18</td>\n",
       "      <td>0</td>\n",
       "      <td>0</td>\n",
       "      <td>0</td>\n",
       "      <td>0.0</td>\n",
       "      <td>0.0</td>\n",
       "      <td>USA</td>\n",
       "      <td>35.766089</td>\n",
       "    </tr>\n",
       "    <tr>\n",
       "      <th>2</th>\n",
       "      <td>Adams, IN</td>\n",
       "      <td>US</td>\n",
       "      <td>39.8522</td>\n",
       "      <td>-77.2865</td>\n",
       "      <td>2020-03-17</td>\n",
       "      <td>0</td>\n",
       "      <td>0</td>\n",
       "      <td>0</td>\n",
       "      <td>0.0</td>\n",
       "      <td>0.0</td>\n",
       "      <td>USA</td>\n",
       "      <td>35.766089</td>\n",
       "    </tr>\n",
       "    <tr>\n",
       "      <th>3</th>\n",
       "      <td>Adams, IN</td>\n",
       "      <td>US</td>\n",
       "      <td>39.8522</td>\n",
       "      <td>-77.2865</td>\n",
       "      <td>2020-03-16</td>\n",
       "      <td>0</td>\n",
       "      <td>0</td>\n",
       "      <td>0</td>\n",
       "      <td>0.0</td>\n",
       "      <td>0.0</td>\n",
       "      <td>USA</td>\n",
       "      <td>35.766089</td>\n",
       "    </tr>\n",
       "    <tr>\n",
       "      <th>4</th>\n",
       "      <td>Adams, IN</td>\n",
       "      <td>US</td>\n",
       "      <td>39.8522</td>\n",
       "      <td>-77.2865</td>\n",
       "      <td>2020-03-15</td>\n",
       "      <td>0</td>\n",
       "      <td>0</td>\n",
       "      <td>0</td>\n",
       "      <td>0.0</td>\n",
       "      <td>0.0</td>\n",
       "      <td>USA</td>\n",
       "      <td>35.766089</td>\n",
       "    </tr>\n",
       "  </tbody>\n",
       "</table>\n",
       "</div>"
      ],
      "text/plain": [
       "  Province/State Country/Region      Lat      Long       Date Confirmed Death  \\\n",
       "0      Adams, IN             US  39.8522  -77.2865 2020-03-19         0     0   \n",
       "1      Adams, IN             US  39.8522  -77.2865 2020-03-18         0     0   \n",
       "2      Adams, IN             US  39.8522  -77.2865 2020-03-17         0     0   \n",
       "3      Adams, IN             US  39.8522  -77.2865 2020-03-16         0     0   \n",
       "4      Adams, IN             US  39.8522  -77.2865 2020-03-15         0     0   \n",
       "\n",
       "  Recovered  New_case  Growth_Factor Country Code  density_2018  \n",
       "0         0       0.0            0.0          USA     35.766089  \n",
       "1         0       0.0            0.0          USA     35.766089  \n",
       "2         0       0.0            0.0          USA     35.766089  \n",
       "3         0       0.0            0.0          USA     35.766089  \n",
       "4         0       0.0            0.0          USA     35.766089  "
      ]
     },
     "execution_count": 19,
     "metadata": {},
     "output_type": "execute_result"
    }
   ],
   "source": [
    "agg_df = pd.merge(agg_df,country_code,left_on='Country/Region',right_on='Country/Region',how='left')\n",
    "agg_df = pd.merge(agg_df,pop_dst[['Country Code','density_2018']],left_on='Country Code',right_on='Country Code',how='left')\n",
    "agg_df.head()"
   ]
  },
  {
   "cell_type": "markdown",
   "metadata": {},
   "source": [
    "# Adding Demography\n",
    "Demography: Population Age 15-64 (% of Total Population)"
   ]
  },
  {
   "cell_type": "code",
   "execution_count": 20,
   "metadata": {},
   "outputs": [
    {
     "data": {
      "text/plain": [
       "(264, 65)"
      ]
     },
     "execution_count": 20,
     "metadata": {},
     "output_type": "execute_result"
    }
   ],
   "source": [
    "filename = path_dir+'\\\\input\\\\API_SP.POP.1564.TO.ZS_DS2_en_csv_v2_867025\\\\API_SP.POP.1564.TO.ZS_DS2_en_csv_v2_867025.csv'\n",
    "demo_df = pd.read_csv(filename,skiprows=3)\n",
    "demo_df.shape"
   ]
  },
  {
   "cell_type": "code",
   "execution_count": 21,
   "metadata": {},
   "outputs": [
    {
     "data": {
      "text/html": [
       "<div>\n",
       "<style scoped>\n",
       "    .dataframe tbody tr th:only-of-type {\n",
       "        vertical-align: middle;\n",
       "    }\n",
       "\n",
       "    .dataframe tbody tr th {\n",
       "        vertical-align: top;\n",
       "    }\n",
       "\n",
       "    .dataframe thead th {\n",
       "        text-align: right;\n",
       "    }\n",
       "</style>\n",
       "<table border=\"1\" class=\"dataframe\">\n",
       "  <thead>\n",
       "    <tr style=\"text-align: right;\">\n",
       "      <th></th>\n",
       "      <th>Country Name</th>\n",
       "      <th>Country Code</th>\n",
       "      <th>Demography_2018</th>\n",
       "    </tr>\n",
       "  </thead>\n",
       "  <tbody>\n",
       "    <tr>\n",
       "      <th>0</th>\n",
       "      <td>Aruba</td>\n",
       "      <td>ABW</td>\n",
       "      <td>68.646606</td>\n",
       "    </tr>\n",
       "    <tr>\n",
       "      <th>1</th>\n",
       "      <td>Afghanistan</td>\n",
       "      <td>AFG</td>\n",
       "      <td>54.324898</td>\n",
       "    </tr>\n",
       "    <tr>\n",
       "      <th>2</th>\n",
       "      <td>Angola</td>\n",
       "      <td>AGO</td>\n",
       "      <td>50.974702</td>\n",
       "    </tr>\n",
       "    <tr>\n",
       "      <th>3</th>\n",
       "      <td>Albania</td>\n",
       "      <td>ALB</td>\n",
       "      <td>68.582390</td>\n",
       "    </tr>\n",
       "    <tr>\n",
       "      <th>4</th>\n",
       "      <td>Andorra</td>\n",
       "      <td>AND</td>\n",
       "      <td>NaN</td>\n",
       "    </tr>\n",
       "  </tbody>\n",
       "</table>\n",
       "</div>"
      ],
      "text/plain": [
       "  Country Name Country Code  Demography_2018\n",
       "0        Aruba          ABW        68.646606\n",
       "1  Afghanistan          AFG        54.324898\n",
       "2       Angola          AGO        50.974702\n",
       "3      Albania          ALB        68.582390\n",
       "4      Andorra          AND              NaN"
      ]
     },
     "execution_count": 21,
     "metadata": {},
     "output_type": "execute_result"
    }
   ],
   "source": [
    "density_col = ['Country Name','Country Code','2018']\n",
    "demo_df = demo_df[density_col]\n",
    "demo_col = ['Country Name','Country Code','Demography_2018']\n",
    "demo_df.columns = demo_col\n",
    "del(density_col,demo_col)\n",
    "demo_df.head()"
   ]
  },
  {
   "cell_type": "code",
   "execution_count": 22,
   "metadata": {},
   "outputs": [
    {
     "data": {
      "text/html": [
       "<div>\n",
       "<style scoped>\n",
       "    .dataframe tbody tr th:only-of-type {\n",
       "        vertical-align: middle;\n",
       "    }\n",
       "\n",
       "    .dataframe tbody tr th {\n",
       "        vertical-align: top;\n",
       "    }\n",
       "\n",
       "    .dataframe thead th {\n",
       "        text-align: right;\n",
       "    }\n",
       "</style>\n",
       "<table border=\"1\" class=\"dataframe\">\n",
       "  <thead>\n",
       "    <tr style=\"text-align: right;\">\n",
       "      <th></th>\n",
       "      <th>Province/State</th>\n",
       "      <th>Country/Region</th>\n",
       "      <th>Lat</th>\n",
       "      <th>Long</th>\n",
       "      <th>Date</th>\n",
       "      <th>Confirmed</th>\n",
       "      <th>Death</th>\n",
       "      <th>Recovered</th>\n",
       "      <th>New_case</th>\n",
       "      <th>Growth_Factor</th>\n",
       "      <th>Country Code</th>\n",
       "      <th>density_2018</th>\n",
       "      <th>Demography_2018</th>\n",
       "    </tr>\n",
       "  </thead>\n",
       "  <tbody>\n",
       "    <tr>\n",
       "      <th>0</th>\n",
       "      <td>Adams, IN</td>\n",
       "      <td>US</td>\n",
       "      <td>39.8522</td>\n",
       "      <td>-77.2865</td>\n",
       "      <td>2020-03-19</td>\n",
       "      <td>0</td>\n",
       "      <td>0</td>\n",
       "      <td>0</td>\n",
       "      <td>0.0</td>\n",
       "      <td>0.0</td>\n",
       "      <td>USA</td>\n",
       "      <td>35.766089</td>\n",
       "      <td>65.483306</td>\n",
       "    </tr>\n",
       "    <tr>\n",
       "      <th>1</th>\n",
       "      <td>Adams, IN</td>\n",
       "      <td>US</td>\n",
       "      <td>39.8522</td>\n",
       "      <td>-77.2865</td>\n",
       "      <td>2020-03-18</td>\n",
       "      <td>0</td>\n",
       "      <td>0</td>\n",
       "      <td>0</td>\n",
       "      <td>0.0</td>\n",
       "      <td>0.0</td>\n",
       "      <td>USA</td>\n",
       "      <td>35.766089</td>\n",
       "      <td>65.483306</td>\n",
       "    </tr>\n",
       "    <tr>\n",
       "      <th>2</th>\n",
       "      <td>Adams, IN</td>\n",
       "      <td>US</td>\n",
       "      <td>39.8522</td>\n",
       "      <td>-77.2865</td>\n",
       "      <td>2020-03-17</td>\n",
       "      <td>0</td>\n",
       "      <td>0</td>\n",
       "      <td>0</td>\n",
       "      <td>0.0</td>\n",
       "      <td>0.0</td>\n",
       "      <td>USA</td>\n",
       "      <td>35.766089</td>\n",
       "      <td>65.483306</td>\n",
       "    </tr>\n",
       "    <tr>\n",
       "      <th>3</th>\n",
       "      <td>Adams, IN</td>\n",
       "      <td>US</td>\n",
       "      <td>39.8522</td>\n",
       "      <td>-77.2865</td>\n",
       "      <td>2020-03-16</td>\n",
       "      <td>0</td>\n",
       "      <td>0</td>\n",
       "      <td>0</td>\n",
       "      <td>0.0</td>\n",
       "      <td>0.0</td>\n",
       "      <td>USA</td>\n",
       "      <td>35.766089</td>\n",
       "      <td>65.483306</td>\n",
       "    </tr>\n",
       "    <tr>\n",
       "      <th>4</th>\n",
       "      <td>Adams, IN</td>\n",
       "      <td>US</td>\n",
       "      <td>39.8522</td>\n",
       "      <td>-77.2865</td>\n",
       "      <td>2020-03-15</td>\n",
       "      <td>0</td>\n",
       "      <td>0</td>\n",
       "      <td>0</td>\n",
       "      <td>0.0</td>\n",
       "      <td>0.0</td>\n",
       "      <td>USA</td>\n",
       "      <td>35.766089</td>\n",
       "      <td>65.483306</td>\n",
       "    </tr>\n",
       "  </tbody>\n",
       "</table>\n",
       "</div>"
      ],
      "text/plain": [
       "  Province/State Country/Region      Lat      Long       Date Confirmed Death  \\\n",
       "0      Adams, IN             US  39.8522  -77.2865 2020-03-19         0     0   \n",
       "1      Adams, IN             US  39.8522  -77.2865 2020-03-18         0     0   \n",
       "2      Adams, IN             US  39.8522  -77.2865 2020-03-17         0     0   \n",
       "3      Adams, IN             US  39.8522  -77.2865 2020-03-16         0     0   \n",
       "4      Adams, IN             US  39.8522  -77.2865 2020-03-15         0     0   \n",
       "\n",
       "  Recovered  New_case  Growth_Factor Country Code  density_2018  \\\n",
       "0         0       0.0            0.0          USA     35.766089   \n",
       "1         0       0.0            0.0          USA     35.766089   \n",
       "2         0       0.0            0.0          USA     35.766089   \n",
       "3         0       0.0            0.0          USA     35.766089   \n",
       "4         0       0.0            0.0          USA     35.766089   \n",
       "\n",
       "   Demography_2018  \n",
       "0        65.483306  \n",
       "1        65.483306  \n",
       "2        65.483306  \n",
       "3        65.483306  \n",
       "4        65.483306  "
      ]
     },
     "execution_count": 22,
     "metadata": {},
     "output_type": "execute_result"
    }
   ],
   "source": [
    "agg_df = pd.merge(agg_df,demo_df[['Country Code','Demography_2018']],left_on='Country Code',right_on='Country Code',how='left')\n",
    "agg_df.head()"
   ]
  },
  {
   "cell_type": "markdown",
   "metadata": {},
   "source": [
    "# Adding Physicians (per 1,000 people)\n",
    "Data is available from 1960 but not populated all the years. We have taken the average of all the years starting 1960 to 2018. Keeping in mind that population is increasing over period of time so ratio is being adjusted."
   ]
  },
  {
   "cell_type": "code",
   "execution_count": 23,
   "metadata": {},
   "outputs": [
    {
     "data": {
      "text/plain": [
       "(264, 65)"
      ]
     },
     "execution_count": 23,
     "metadata": {},
     "output_type": "execute_result"
    }
   ],
   "source": [
    "filename = path_dir+'\\\\input\\\\API_SH.MED.PHYS.ZS_DS2_en_csv_v2_868622\\\\API_SH.MED.PHYS.ZS_DS2_en_csv_v2_868622.csv'\n",
    "phy_df = pd.read_csv(filename,skiprows=3)\n",
    "phy_df.shape"
   ]
  },
  {
   "cell_type": "code",
   "execution_count": 24,
   "metadata": {},
   "outputs": [
    {
     "data": {
      "text/html": [
       "<div>\n",
       "<style scoped>\n",
       "    .dataframe tbody tr th:only-of-type {\n",
       "        vertical-align: middle;\n",
       "    }\n",
       "\n",
       "    .dataframe tbody tr th {\n",
       "        vertical-align: top;\n",
       "    }\n",
       "\n",
       "    .dataframe thead th {\n",
       "        text-align: right;\n",
       "    }\n",
       "</style>\n",
       "<table border=\"1\" class=\"dataframe\">\n",
       "  <thead>\n",
       "    <tr style=\"text-align: right;\">\n",
       "      <th></th>\n",
       "      <th>Country Name</th>\n",
       "      <th>Country Code</th>\n",
       "      <th>Indicator Name</th>\n",
       "      <th>Indicator Code</th>\n",
       "      <th>1960</th>\n",
       "      <th>1961</th>\n",
       "      <th>1962</th>\n",
       "      <th>1963</th>\n",
       "      <th>1964</th>\n",
       "      <th>1965</th>\n",
       "      <th>...</th>\n",
       "      <th>2011</th>\n",
       "      <th>2012</th>\n",
       "      <th>2013</th>\n",
       "      <th>2014</th>\n",
       "      <th>2015</th>\n",
       "      <th>2016</th>\n",
       "      <th>2017</th>\n",
       "      <th>2018</th>\n",
       "      <th>2019</th>\n",
       "      <th>Unnamed: 64</th>\n",
       "    </tr>\n",
       "  </thead>\n",
       "  <tbody>\n",
       "    <tr>\n",
       "      <th>0</th>\n",
       "      <td>Aruba</td>\n",
       "      <td>ABW</td>\n",
       "      <td>Physicians (per 1,000 people)</td>\n",
       "      <td>SH.MED.PHYS.ZS</td>\n",
       "      <td>NaN</td>\n",
       "      <td>NaN</td>\n",
       "      <td>NaN</td>\n",
       "      <td>NaN</td>\n",
       "      <td>NaN</td>\n",
       "      <td>NaN</td>\n",
       "      <td>...</td>\n",
       "      <td>NaN</td>\n",
       "      <td>NaN</td>\n",
       "      <td>NaN</td>\n",
       "      <td>NaN</td>\n",
       "      <td>NaN</td>\n",
       "      <td>NaN</td>\n",
       "      <td>NaN</td>\n",
       "      <td>NaN</td>\n",
       "      <td>NaN</td>\n",
       "      <td>NaN</td>\n",
       "    </tr>\n",
       "    <tr>\n",
       "      <th>1</th>\n",
       "      <td>Afghanistan</td>\n",
       "      <td>AFG</td>\n",
       "      <td>Physicians (per 1,000 people)</td>\n",
       "      <td>SH.MED.PHYS.ZS</td>\n",
       "      <td>0.035</td>\n",
       "      <td>NaN</td>\n",
       "      <td>NaN</td>\n",
       "      <td>NaN</td>\n",
       "      <td>NaN</td>\n",
       "      <td>0.063</td>\n",
       "      <td>...</td>\n",
       "      <td>0.2553</td>\n",
       "      <td>0.2450</td>\n",
       "      <td>0.2894</td>\n",
       "      <td>0.3039</td>\n",
       "      <td>0.2907</td>\n",
       "      <td>0.2840</td>\n",
       "      <td>NaN</td>\n",
       "      <td>NaN</td>\n",
       "      <td>NaN</td>\n",
       "      <td>NaN</td>\n",
       "    </tr>\n",
       "    <tr>\n",
       "      <th>2</th>\n",
       "      <td>Angola</td>\n",
       "      <td>AGO</td>\n",
       "      <td>Physicians (per 1,000 people)</td>\n",
       "      <td>SH.MED.PHYS.ZS</td>\n",
       "      <td>0.067</td>\n",
       "      <td>NaN</td>\n",
       "      <td>NaN</td>\n",
       "      <td>NaN</td>\n",
       "      <td>NaN</td>\n",
       "      <td>0.076</td>\n",
       "      <td>...</td>\n",
       "      <td>NaN</td>\n",
       "      <td>NaN</td>\n",
       "      <td>NaN</td>\n",
       "      <td>NaN</td>\n",
       "      <td>NaN</td>\n",
       "      <td>NaN</td>\n",
       "      <td>0.2149</td>\n",
       "      <td>NaN</td>\n",
       "      <td>NaN</td>\n",
       "      <td>NaN</td>\n",
       "    </tr>\n",
       "    <tr>\n",
       "      <th>3</th>\n",
       "      <td>Albania</td>\n",
       "      <td>ALB</td>\n",
       "      <td>Physicians (per 1,000 people)</td>\n",
       "      <td>SH.MED.PHYS.ZS</td>\n",
       "      <td>0.276</td>\n",
       "      <td>NaN</td>\n",
       "      <td>NaN</td>\n",
       "      <td>NaN</td>\n",
       "      <td>NaN</td>\n",
       "      <td>0.481</td>\n",
       "      <td>...</td>\n",
       "      <td>1.2225</td>\n",
       "      <td>1.2658</td>\n",
       "      <td>1.2706</td>\n",
       "      <td>NaN</td>\n",
       "      <td>NaN</td>\n",
       "      <td>1.1998</td>\n",
       "      <td>NaN</td>\n",
       "      <td>NaN</td>\n",
       "      <td>NaN</td>\n",
       "      <td>NaN</td>\n",
       "    </tr>\n",
       "    <tr>\n",
       "      <th>4</th>\n",
       "      <td>Andorra</td>\n",
       "      <td>AND</td>\n",
       "      <td>Physicians (per 1,000 people)</td>\n",
       "      <td>SH.MED.PHYS.ZS</td>\n",
       "      <td>NaN</td>\n",
       "      <td>NaN</td>\n",
       "      <td>NaN</td>\n",
       "      <td>NaN</td>\n",
       "      <td>NaN</td>\n",
       "      <td>NaN</td>\n",
       "      <td>...</td>\n",
       "      <td>NaN</td>\n",
       "      <td>NaN</td>\n",
       "      <td>NaN</td>\n",
       "      <td>NaN</td>\n",
       "      <td>3.3333</td>\n",
       "      <td>NaN</td>\n",
       "      <td>NaN</td>\n",
       "      <td>NaN</td>\n",
       "      <td>NaN</td>\n",
       "      <td>NaN</td>\n",
       "    </tr>\n",
       "  </tbody>\n",
       "</table>\n",
       "<p>5 rows × 65 columns</p>\n",
       "</div>"
      ],
      "text/plain": [
       "  Country Name Country Code                 Indicator Name  Indicator Code  \\\n",
       "0        Aruba          ABW  Physicians (per 1,000 people)  SH.MED.PHYS.ZS   \n",
       "1  Afghanistan          AFG  Physicians (per 1,000 people)  SH.MED.PHYS.ZS   \n",
       "2       Angola          AGO  Physicians (per 1,000 people)  SH.MED.PHYS.ZS   \n",
       "3      Albania          ALB  Physicians (per 1,000 people)  SH.MED.PHYS.ZS   \n",
       "4      Andorra          AND  Physicians (per 1,000 people)  SH.MED.PHYS.ZS   \n",
       "\n",
       "    1960  1961  1962  1963  1964   1965  ...    2011    2012    2013    2014  \\\n",
       "0    NaN   NaN   NaN   NaN   NaN    NaN  ...     NaN     NaN     NaN     NaN   \n",
       "1  0.035   NaN   NaN   NaN   NaN  0.063  ...  0.2553  0.2450  0.2894  0.3039   \n",
       "2  0.067   NaN   NaN   NaN   NaN  0.076  ...     NaN     NaN     NaN     NaN   \n",
       "3  0.276   NaN   NaN   NaN   NaN  0.481  ...  1.2225  1.2658  1.2706     NaN   \n",
       "4    NaN   NaN   NaN   NaN   NaN    NaN  ...     NaN     NaN     NaN     NaN   \n",
       "\n",
       "     2015    2016    2017  2018  2019  Unnamed: 64  \n",
       "0     NaN     NaN     NaN   NaN   NaN          NaN  \n",
       "1  0.2907  0.2840     NaN   NaN   NaN          NaN  \n",
       "2     NaN     NaN  0.2149   NaN   NaN          NaN  \n",
       "3     NaN  1.1998     NaN   NaN   NaN          NaN  \n",
       "4  3.3333     NaN     NaN   NaN   NaN          NaN  \n",
       "\n",
       "[5 rows x 65 columns]"
      ]
     },
     "execution_count": 24,
     "metadata": {},
     "output_type": "execute_result"
    }
   ],
   "source": [
    "phy_df.head()"
   ]
  },
  {
   "cell_type": "code",
   "execution_count": 25,
   "metadata": {},
   "outputs": [
    {
     "data": {
      "text/html": [
       "<div>\n",
       "<style scoped>\n",
       "    .dataframe tbody tr th:only-of-type {\n",
       "        vertical-align: middle;\n",
       "    }\n",
       "\n",
       "    .dataframe tbody tr th {\n",
       "        vertical-align: top;\n",
       "    }\n",
       "\n",
       "    .dataframe thead th {\n",
       "        text-align: right;\n",
       "    }\n",
       "</style>\n",
       "<table border=\"1\" class=\"dataframe\">\n",
       "  <thead>\n",
       "    <tr style=\"text-align: right;\">\n",
       "      <th></th>\n",
       "      <th>Country Name</th>\n",
       "      <th>Country Code</th>\n",
       "      <th>DrRatio</th>\n",
       "    </tr>\n",
       "  </thead>\n",
       "  <tbody>\n",
       "    <tr>\n",
       "      <th>0</th>\n",
       "      <td>Aruba</td>\n",
       "      <td>ABW</td>\n",
       "      <td>1.120000</td>\n",
       "    </tr>\n",
       "    <tr>\n",
       "      <th>1</th>\n",
       "      <td>Afghanistan</td>\n",
       "      <td>AFG</td>\n",
       "      <td>0.178623</td>\n",
       "    </tr>\n",
       "    <tr>\n",
       "      <th>2</th>\n",
       "      <td>Angola</td>\n",
       "      <td>AGO</td>\n",
       "      <td>0.091800</td>\n",
       "    </tr>\n",
       "    <tr>\n",
       "      <th>3</th>\n",
       "      <td>Albania</td>\n",
       "      <td>ALB</td>\n",
       "      <td>1.203848</td>\n",
       "    </tr>\n",
       "    <tr>\n",
       "      <th>4</th>\n",
       "      <td>Andorra</td>\n",
       "      <td>AND</td>\n",
       "      <td>3.000633</td>\n",
       "    </tr>\n",
       "  </tbody>\n",
       "</table>\n",
       "</div>"
      ],
      "text/plain": [
       "  Country Name Country Code   DrRatio\n",
       "0        Aruba          ABW  1.120000\n",
       "1  Afghanistan          AFG  0.178623\n",
       "2       Angola          AGO  0.091800\n",
       "3      Albania          ALB  1.203848\n",
       "4      Andorra          AND  3.000633"
      ]
     },
     "execution_count": 25,
     "metadata": {},
     "output_type": "execute_result"
    }
   ],
   "source": [
    "avg_phy_ratio_2018 = phy_df.iloc[:,4:63].mean(axis=1)\n",
    "phy_col = ['Country Name','Country Code']\n",
    "phy_df = phy_df[phy_col]\n",
    "phy_df['DrRatio'] = avg_phy_ratio_2018.copy()\n",
    "del(phy_col)\n",
    "phy_df.head()"
   ]
  },
  {
   "cell_type": "code",
   "execution_count": 26,
   "metadata": {},
   "outputs": [
    {
     "data": {
      "text/html": [
       "<div>\n",
       "<style scoped>\n",
       "    .dataframe tbody tr th:only-of-type {\n",
       "        vertical-align: middle;\n",
       "    }\n",
       "\n",
       "    .dataframe tbody tr th {\n",
       "        vertical-align: top;\n",
       "    }\n",
       "\n",
       "    .dataframe thead th {\n",
       "        text-align: right;\n",
       "    }\n",
       "</style>\n",
       "<table border=\"1\" class=\"dataframe\">\n",
       "  <thead>\n",
       "    <tr style=\"text-align: right;\">\n",
       "      <th></th>\n",
       "      <th>Province/State</th>\n",
       "      <th>Country/Region</th>\n",
       "      <th>Lat</th>\n",
       "      <th>Long</th>\n",
       "      <th>Date</th>\n",
       "      <th>Confirmed</th>\n",
       "      <th>Death</th>\n",
       "      <th>Recovered</th>\n",
       "      <th>New_case</th>\n",
       "      <th>Growth_Factor</th>\n",
       "      <th>Country Code</th>\n",
       "      <th>density_2018</th>\n",
       "      <th>Demography_2018</th>\n",
       "      <th>DrRatio</th>\n",
       "    </tr>\n",
       "  </thead>\n",
       "  <tbody>\n",
       "    <tr>\n",
       "      <th>0</th>\n",
       "      <td>Adams, IN</td>\n",
       "      <td>US</td>\n",
       "      <td>39.8522</td>\n",
       "      <td>-77.2865</td>\n",
       "      <td>2020-03-19</td>\n",
       "      <td>0</td>\n",
       "      <td>0</td>\n",
       "      <td>0</td>\n",
       "      <td>0.0</td>\n",
       "      <td>0.0</td>\n",
       "      <td>USA</td>\n",
       "      <td>35.766089</td>\n",
       "      <td>65.483306</td>\n",
       "      <td>1.999229</td>\n",
       "    </tr>\n",
       "    <tr>\n",
       "      <th>1</th>\n",
       "      <td>Adams, IN</td>\n",
       "      <td>US</td>\n",
       "      <td>39.8522</td>\n",
       "      <td>-77.2865</td>\n",
       "      <td>2020-03-18</td>\n",
       "      <td>0</td>\n",
       "      <td>0</td>\n",
       "      <td>0</td>\n",
       "      <td>0.0</td>\n",
       "      <td>0.0</td>\n",
       "      <td>USA</td>\n",
       "      <td>35.766089</td>\n",
       "      <td>65.483306</td>\n",
       "      <td>1.999229</td>\n",
       "    </tr>\n",
       "    <tr>\n",
       "      <th>2</th>\n",
       "      <td>Adams, IN</td>\n",
       "      <td>US</td>\n",
       "      <td>39.8522</td>\n",
       "      <td>-77.2865</td>\n",
       "      <td>2020-03-17</td>\n",
       "      <td>0</td>\n",
       "      <td>0</td>\n",
       "      <td>0</td>\n",
       "      <td>0.0</td>\n",
       "      <td>0.0</td>\n",
       "      <td>USA</td>\n",
       "      <td>35.766089</td>\n",
       "      <td>65.483306</td>\n",
       "      <td>1.999229</td>\n",
       "    </tr>\n",
       "    <tr>\n",
       "      <th>3</th>\n",
       "      <td>Adams, IN</td>\n",
       "      <td>US</td>\n",
       "      <td>39.8522</td>\n",
       "      <td>-77.2865</td>\n",
       "      <td>2020-03-16</td>\n",
       "      <td>0</td>\n",
       "      <td>0</td>\n",
       "      <td>0</td>\n",
       "      <td>0.0</td>\n",
       "      <td>0.0</td>\n",
       "      <td>USA</td>\n",
       "      <td>35.766089</td>\n",
       "      <td>65.483306</td>\n",
       "      <td>1.999229</td>\n",
       "    </tr>\n",
       "    <tr>\n",
       "      <th>4</th>\n",
       "      <td>Adams, IN</td>\n",
       "      <td>US</td>\n",
       "      <td>39.8522</td>\n",
       "      <td>-77.2865</td>\n",
       "      <td>2020-03-15</td>\n",
       "      <td>0</td>\n",
       "      <td>0</td>\n",
       "      <td>0</td>\n",
       "      <td>0.0</td>\n",
       "      <td>0.0</td>\n",
       "      <td>USA</td>\n",
       "      <td>35.766089</td>\n",
       "      <td>65.483306</td>\n",
       "      <td>1.999229</td>\n",
       "    </tr>\n",
       "  </tbody>\n",
       "</table>\n",
       "</div>"
      ],
      "text/plain": [
       "  Province/State Country/Region      Lat      Long       Date Confirmed Death  \\\n",
       "0      Adams, IN             US  39.8522  -77.2865 2020-03-19         0     0   \n",
       "1      Adams, IN             US  39.8522  -77.2865 2020-03-18         0     0   \n",
       "2      Adams, IN             US  39.8522  -77.2865 2020-03-17         0     0   \n",
       "3      Adams, IN             US  39.8522  -77.2865 2020-03-16         0     0   \n",
       "4      Adams, IN             US  39.8522  -77.2865 2020-03-15         0     0   \n",
       "\n",
       "  Recovered  New_case  Growth_Factor Country Code  density_2018  \\\n",
       "0         0       0.0            0.0          USA     35.766089   \n",
       "1         0       0.0            0.0          USA     35.766089   \n",
       "2         0       0.0            0.0          USA     35.766089   \n",
       "3         0       0.0            0.0          USA     35.766089   \n",
       "4         0       0.0            0.0          USA     35.766089   \n",
       "\n",
       "   Demography_2018   DrRatio  \n",
       "0        65.483306  1.999229  \n",
       "1        65.483306  1.999229  \n",
       "2        65.483306  1.999229  \n",
       "3        65.483306  1.999229  \n",
       "4        65.483306  1.999229  "
      ]
     },
     "execution_count": 26,
     "metadata": {},
     "output_type": "execute_result"
    }
   ],
   "source": [
    "agg_df = pd.merge(agg_df,phy_df[['Country Code','DrRatio']],left_on='Country Code',right_on='Country Code',how='left')\n",
    "agg_df.head()"
   ]
  },
  {
   "cell_type": "markdown",
   "metadata": {},
   "source": [
    "# Hospital Bed per 1000 People\n",
    "Data is available from 1960 but not populated all the years. We have taken the average of all the years starting 1960 to 2018."
   ]
  },
  {
   "cell_type": "code",
   "execution_count": 27,
   "metadata": {},
   "outputs": [
    {
     "data": {
      "text/plain": [
       "(264, 65)"
      ]
     },
     "execution_count": 27,
     "metadata": {},
     "output_type": "execute_result"
    }
   ],
   "source": [
    "filename = path_dir+'\\\\input\\\\API_SH.MED.BEDS.ZS_DS2_en_csv_v2_867087\\\\API_SH.MED.BEDS.ZS_DS2_en_csv_v2_867087.csv'\n",
    "bed_df = pd.read_csv(filename,skiprows=3)\n",
    "bed_df.shape"
   ]
  },
  {
   "cell_type": "code",
   "execution_count": 28,
   "metadata": {},
   "outputs": [
    {
     "data": {
      "text/html": [
       "<div>\n",
       "<style scoped>\n",
       "    .dataframe tbody tr th:only-of-type {\n",
       "        vertical-align: middle;\n",
       "    }\n",
       "\n",
       "    .dataframe tbody tr th {\n",
       "        vertical-align: top;\n",
       "    }\n",
       "\n",
       "    .dataframe thead th {\n",
       "        text-align: right;\n",
       "    }\n",
       "</style>\n",
       "<table border=\"1\" class=\"dataframe\">\n",
       "  <thead>\n",
       "    <tr style=\"text-align: right;\">\n",
       "      <th></th>\n",
       "      <th>Country Name</th>\n",
       "      <th>Country Code</th>\n",
       "      <th>Indicator Name</th>\n",
       "      <th>Indicator Code</th>\n",
       "      <th>1960</th>\n",
       "      <th>1961</th>\n",
       "      <th>1962</th>\n",
       "      <th>1963</th>\n",
       "      <th>1964</th>\n",
       "      <th>1965</th>\n",
       "      <th>...</th>\n",
       "      <th>2011</th>\n",
       "      <th>2012</th>\n",
       "      <th>2013</th>\n",
       "      <th>2014</th>\n",
       "      <th>2015</th>\n",
       "      <th>2016</th>\n",
       "      <th>2017</th>\n",
       "      <th>2018</th>\n",
       "      <th>2019</th>\n",
       "      <th>Unnamed: 64</th>\n",
       "    </tr>\n",
       "  </thead>\n",
       "  <tbody>\n",
       "    <tr>\n",
       "      <th>0</th>\n",
       "      <td>Aruba</td>\n",
       "      <td>ABW</td>\n",
       "      <td>Hospital beds (per 1,000 people)</td>\n",
       "      <td>SH.MED.BEDS.ZS</td>\n",
       "      <td>NaN</td>\n",
       "      <td>NaN</td>\n",
       "      <td>NaN</td>\n",
       "      <td>NaN</td>\n",
       "      <td>NaN</td>\n",
       "      <td>NaN</td>\n",
       "      <td>...</td>\n",
       "      <td>NaN</td>\n",
       "      <td>NaN</td>\n",
       "      <td>NaN</td>\n",
       "      <td>NaN</td>\n",
       "      <td>NaN</td>\n",
       "      <td>NaN</td>\n",
       "      <td>NaN</td>\n",
       "      <td>NaN</td>\n",
       "      <td>NaN</td>\n",
       "      <td>NaN</td>\n",
       "    </tr>\n",
       "    <tr>\n",
       "      <th>1</th>\n",
       "      <td>Afghanistan</td>\n",
       "      <td>AFG</td>\n",
       "      <td>Hospital beds (per 1,000 people)</td>\n",
       "      <td>SH.MED.BEDS.ZS</td>\n",
       "      <td>0.170627</td>\n",
       "      <td>NaN</td>\n",
       "      <td>NaN</td>\n",
       "      <td>NaN</td>\n",
       "      <td>NaN</td>\n",
       "      <td>NaN</td>\n",
       "      <td>...</td>\n",
       "      <td>0.4</td>\n",
       "      <td>0.5</td>\n",
       "      <td>0.5</td>\n",
       "      <td>0.5</td>\n",
       "      <td>0.5</td>\n",
       "      <td>NaN</td>\n",
       "      <td>NaN</td>\n",
       "      <td>NaN</td>\n",
       "      <td>NaN</td>\n",
       "      <td>NaN</td>\n",
       "    </tr>\n",
       "    <tr>\n",
       "      <th>2</th>\n",
       "      <td>Angola</td>\n",
       "      <td>AGO</td>\n",
       "      <td>Hospital beds (per 1,000 people)</td>\n",
       "      <td>SH.MED.BEDS.ZS</td>\n",
       "      <td>2.061462</td>\n",
       "      <td>NaN</td>\n",
       "      <td>NaN</td>\n",
       "      <td>NaN</td>\n",
       "      <td>NaN</td>\n",
       "      <td>NaN</td>\n",
       "      <td>...</td>\n",
       "      <td>NaN</td>\n",
       "      <td>NaN</td>\n",
       "      <td>NaN</td>\n",
       "      <td>NaN</td>\n",
       "      <td>NaN</td>\n",
       "      <td>NaN</td>\n",
       "      <td>NaN</td>\n",
       "      <td>NaN</td>\n",
       "      <td>NaN</td>\n",
       "      <td>NaN</td>\n",
       "    </tr>\n",
       "    <tr>\n",
       "      <th>3</th>\n",
       "      <td>Albania</td>\n",
       "      <td>ALB</td>\n",
       "      <td>Hospital beds (per 1,000 people)</td>\n",
       "      <td>SH.MED.BEDS.ZS</td>\n",
       "      <td>5.102676</td>\n",
       "      <td>NaN</td>\n",
       "      <td>NaN</td>\n",
       "      <td>NaN</td>\n",
       "      <td>NaN</td>\n",
       "      <td>NaN</td>\n",
       "      <td>...</td>\n",
       "      <td>2.6</td>\n",
       "      <td>2.9</td>\n",
       "      <td>2.9</td>\n",
       "      <td>NaN</td>\n",
       "      <td>NaN</td>\n",
       "      <td>NaN</td>\n",
       "      <td>NaN</td>\n",
       "      <td>NaN</td>\n",
       "      <td>NaN</td>\n",
       "      <td>NaN</td>\n",
       "    </tr>\n",
       "    <tr>\n",
       "      <th>4</th>\n",
       "      <td>Andorra</td>\n",
       "      <td>AND</td>\n",
       "      <td>Hospital beds (per 1,000 people)</td>\n",
       "      <td>SH.MED.BEDS.ZS</td>\n",
       "      <td>NaN</td>\n",
       "      <td>NaN</td>\n",
       "      <td>NaN</td>\n",
       "      <td>NaN</td>\n",
       "      <td>NaN</td>\n",
       "      <td>NaN</td>\n",
       "      <td>...</td>\n",
       "      <td>NaN</td>\n",
       "      <td>NaN</td>\n",
       "      <td>NaN</td>\n",
       "      <td>NaN</td>\n",
       "      <td>NaN</td>\n",
       "      <td>NaN</td>\n",
       "      <td>NaN</td>\n",
       "      <td>NaN</td>\n",
       "      <td>NaN</td>\n",
       "      <td>NaN</td>\n",
       "    </tr>\n",
       "  </tbody>\n",
       "</table>\n",
       "<p>5 rows × 65 columns</p>\n",
       "</div>"
      ],
      "text/plain": [
       "  Country Name Country Code                    Indicator Name  Indicator Code  \\\n",
       "0        Aruba          ABW  Hospital beds (per 1,000 people)  SH.MED.BEDS.ZS   \n",
       "1  Afghanistan          AFG  Hospital beds (per 1,000 people)  SH.MED.BEDS.ZS   \n",
       "2       Angola          AGO  Hospital beds (per 1,000 people)  SH.MED.BEDS.ZS   \n",
       "3      Albania          ALB  Hospital beds (per 1,000 people)  SH.MED.BEDS.ZS   \n",
       "4      Andorra          AND  Hospital beds (per 1,000 people)  SH.MED.BEDS.ZS   \n",
       "\n",
       "       1960  1961  1962  1963  1964  1965  ...  2011  2012  2013  2014  2015  \\\n",
       "0       NaN   NaN   NaN   NaN   NaN   NaN  ...   NaN   NaN   NaN   NaN   NaN   \n",
       "1  0.170627   NaN   NaN   NaN   NaN   NaN  ...   0.4   0.5   0.5   0.5   0.5   \n",
       "2  2.061462   NaN   NaN   NaN   NaN   NaN  ...   NaN   NaN   NaN   NaN   NaN   \n",
       "3  5.102676   NaN   NaN   NaN   NaN   NaN  ...   2.6   2.9   2.9   NaN   NaN   \n",
       "4       NaN   NaN   NaN   NaN   NaN   NaN  ...   NaN   NaN   NaN   NaN   NaN   \n",
       "\n",
       "   2016  2017  2018  2019  Unnamed: 64  \n",
       "0   NaN   NaN   NaN   NaN          NaN  \n",
       "1   NaN   NaN   NaN   NaN          NaN  \n",
       "2   NaN   NaN   NaN   NaN          NaN  \n",
       "3   NaN   NaN   NaN   NaN          NaN  \n",
       "4   NaN   NaN   NaN   NaN          NaN  \n",
       "\n",
       "[5 rows x 65 columns]"
      ]
     },
     "execution_count": 28,
     "metadata": {},
     "output_type": "execute_result"
    }
   ],
   "source": [
    "bed_df.head()"
   ]
  },
  {
   "cell_type": "code",
   "execution_count": 29,
   "metadata": {},
   "outputs": [
    {
     "data": {
      "text/html": [
       "<div>\n",
       "<style scoped>\n",
       "    .dataframe tbody tr th:only-of-type {\n",
       "        vertical-align: middle;\n",
       "    }\n",
       "\n",
       "    .dataframe tbody tr th {\n",
       "        vertical-align: top;\n",
       "    }\n",
       "\n",
       "    .dataframe thead th {\n",
       "        text-align: right;\n",
       "    }\n",
       "</style>\n",
       "<table border=\"1\" class=\"dataframe\">\n",
       "  <thead>\n",
       "    <tr style=\"text-align: right;\">\n",
       "      <th></th>\n",
       "      <th>Country Name</th>\n",
       "      <th>Country Code</th>\n",
       "      <th>PatientBed</th>\n",
       "    </tr>\n",
       "  </thead>\n",
       "  <tbody>\n",
       "    <tr>\n",
       "      <th>0</th>\n",
       "      <td>Aruba</td>\n",
       "      <td>ABW</td>\n",
       "      <td>NaN</td>\n",
       "    </tr>\n",
       "    <tr>\n",
       "      <th>1</th>\n",
       "      <td>Afghanistan</td>\n",
       "      <td>AFG</td>\n",
       "      <td>0.376387</td>\n",
       "    </tr>\n",
       "    <tr>\n",
       "      <th>2</th>\n",
       "      <td>Angola</td>\n",
       "      <td>AGO</td>\n",
       "      <td>1.718440</td>\n",
       "    </tr>\n",
       "    <tr>\n",
       "      <th>3</th>\n",
       "      <td>Albania</td>\n",
       "      <td>ALB</td>\n",
       "      <td>3.524676</td>\n",
       "    </tr>\n",
       "    <tr>\n",
       "      <th>4</th>\n",
       "      <td>Andorra</td>\n",
       "      <td>AND</td>\n",
       "      <td>2.905455</td>\n",
       "    </tr>\n",
       "  </tbody>\n",
       "</table>\n",
       "</div>"
      ],
      "text/plain": [
       "  Country Name Country Code  PatientBed\n",
       "0        Aruba          ABW         NaN\n",
       "1  Afghanistan          AFG    0.376387\n",
       "2       Angola          AGO    1.718440\n",
       "3      Albania          ALB    3.524676\n",
       "4      Andorra          AND    2.905455"
      ]
     },
     "execution_count": 29,
     "metadata": {},
     "output_type": "execute_result"
    }
   ],
   "source": [
    "avg_bed_2018 = bed_df.iloc[:,4:63].mean(axis=1)\n",
    "bed_col = ['Country Name','Country Code']\n",
    "bed_df = bed_df[bed_col]\n",
    "bed_df['PatientBed'] = avg_bed_2018.copy()\n",
    "del(bed_col)\n",
    "bed_df.head()"
   ]
  },
  {
   "cell_type": "code",
   "execution_count": 30,
   "metadata": {},
   "outputs": [
    {
     "data": {
      "text/html": [
       "<div>\n",
       "<style scoped>\n",
       "    .dataframe tbody tr th:only-of-type {\n",
       "        vertical-align: middle;\n",
       "    }\n",
       "\n",
       "    .dataframe tbody tr th {\n",
       "        vertical-align: top;\n",
       "    }\n",
       "\n",
       "    .dataframe thead th {\n",
       "        text-align: right;\n",
       "    }\n",
       "</style>\n",
       "<table border=\"1\" class=\"dataframe\">\n",
       "  <thead>\n",
       "    <tr style=\"text-align: right;\">\n",
       "      <th></th>\n",
       "      <th>Province/State</th>\n",
       "      <th>Country/Region</th>\n",
       "      <th>Lat</th>\n",
       "      <th>Long</th>\n",
       "      <th>Date</th>\n",
       "      <th>Confirmed</th>\n",
       "      <th>Death</th>\n",
       "      <th>Recovered</th>\n",
       "      <th>New_case</th>\n",
       "      <th>Growth_Factor</th>\n",
       "      <th>Country Code</th>\n",
       "      <th>density_2018</th>\n",
       "      <th>Demography_2018</th>\n",
       "      <th>DrRatio</th>\n",
       "      <th>PatientBed</th>\n",
       "    </tr>\n",
       "  </thead>\n",
       "  <tbody>\n",
       "    <tr>\n",
       "      <th>0</th>\n",
       "      <td>Adams, IN</td>\n",
       "      <td>US</td>\n",
       "      <td>39.8522</td>\n",
       "      <td>-77.2865</td>\n",
       "      <td>2020-03-19</td>\n",
       "      <td>0</td>\n",
       "      <td>0</td>\n",
       "      <td>0</td>\n",
       "      <td>0.0</td>\n",
       "      <td>0.0</td>\n",
       "      <td>USA</td>\n",
       "      <td>35.766089</td>\n",
       "      <td>65.483306</td>\n",
       "      <td>1.999229</td>\n",
       "      <td>5.02</td>\n",
       "    </tr>\n",
       "    <tr>\n",
       "      <th>1</th>\n",
       "      <td>Adams, IN</td>\n",
       "      <td>US</td>\n",
       "      <td>39.8522</td>\n",
       "      <td>-77.2865</td>\n",
       "      <td>2020-03-18</td>\n",
       "      <td>0</td>\n",
       "      <td>0</td>\n",
       "      <td>0</td>\n",
       "      <td>0.0</td>\n",
       "      <td>0.0</td>\n",
       "      <td>USA</td>\n",
       "      <td>35.766089</td>\n",
       "      <td>65.483306</td>\n",
       "      <td>1.999229</td>\n",
       "      <td>5.02</td>\n",
       "    </tr>\n",
       "    <tr>\n",
       "      <th>2</th>\n",
       "      <td>Adams, IN</td>\n",
       "      <td>US</td>\n",
       "      <td>39.8522</td>\n",
       "      <td>-77.2865</td>\n",
       "      <td>2020-03-17</td>\n",
       "      <td>0</td>\n",
       "      <td>0</td>\n",
       "      <td>0</td>\n",
       "      <td>0.0</td>\n",
       "      <td>0.0</td>\n",
       "      <td>USA</td>\n",
       "      <td>35.766089</td>\n",
       "      <td>65.483306</td>\n",
       "      <td>1.999229</td>\n",
       "      <td>5.02</td>\n",
       "    </tr>\n",
       "    <tr>\n",
       "      <th>3</th>\n",
       "      <td>Adams, IN</td>\n",
       "      <td>US</td>\n",
       "      <td>39.8522</td>\n",
       "      <td>-77.2865</td>\n",
       "      <td>2020-03-16</td>\n",
       "      <td>0</td>\n",
       "      <td>0</td>\n",
       "      <td>0</td>\n",
       "      <td>0.0</td>\n",
       "      <td>0.0</td>\n",
       "      <td>USA</td>\n",
       "      <td>35.766089</td>\n",
       "      <td>65.483306</td>\n",
       "      <td>1.999229</td>\n",
       "      <td>5.02</td>\n",
       "    </tr>\n",
       "    <tr>\n",
       "      <th>4</th>\n",
       "      <td>Adams, IN</td>\n",
       "      <td>US</td>\n",
       "      <td>39.8522</td>\n",
       "      <td>-77.2865</td>\n",
       "      <td>2020-03-15</td>\n",
       "      <td>0</td>\n",
       "      <td>0</td>\n",
       "      <td>0</td>\n",
       "      <td>0.0</td>\n",
       "      <td>0.0</td>\n",
       "      <td>USA</td>\n",
       "      <td>35.766089</td>\n",
       "      <td>65.483306</td>\n",
       "      <td>1.999229</td>\n",
       "      <td>5.02</td>\n",
       "    </tr>\n",
       "  </tbody>\n",
       "</table>\n",
       "</div>"
      ],
      "text/plain": [
       "  Province/State Country/Region      Lat      Long       Date Confirmed Death  \\\n",
       "0      Adams, IN             US  39.8522  -77.2865 2020-03-19         0     0   \n",
       "1      Adams, IN             US  39.8522  -77.2865 2020-03-18         0     0   \n",
       "2      Adams, IN             US  39.8522  -77.2865 2020-03-17         0     0   \n",
       "3      Adams, IN             US  39.8522  -77.2865 2020-03-16         0     0   \n",
       "4      Adams, IN             US  39.8522  -77.2865 2020-03-15         0     0   \n",
       "\n",
       "  Recovered  New_case  Growth_Factor Country Code  density_2018  \\\n",
       "0         0       0.0            0.0          USA     35.766089   \n",
       "1         0       0.0            0.0          USA     35.766089   \n",
       "2         0       0.0            0.0          USA     35.766089   \n",
       "3         0       0.0            0.0          USA     35.766089   \n",
       "4         0       0.0            0.0          USA     35.766089   \n",
       "\n",
       "   Demography_2018   DrRatio  PatientBed  \n",
       "0        65.483306  1.999229        5.02  \n",
       "1        65.483306  1.999229        5.02  \n",
       "2        65.483306  1.999229        5.02  \n",
       "3        65.483306  1.999229        5.02  \n",
       "4        65.483306  1.999229        5.02  "
      ]
     },
     "execution_count": 30,
     "metadata": {},
     "output_type": "execute_result"
    }
   ],
   "source": [
    "agg_df = pd.merge(agg_df,bed_df[['Country Code','PatientBed']],left_on='Country Code',right_on='Country Code',how='left')\n",
    "agg_df.head()"
   ]
  },
  {
   "cell_type": "code",
   "execution_count": 31,
   "metadata": {},
   "outputs": [],
   "source": [
    "agg_df.to_csv(path_dir+'\\\\output\\\\Covid19_master_dataV1.csv',index=False)"
   ]
  },
  {
   "cell_type": "code",
   "execution_count": null,
   "metadata": {},
   "outputs": [],
   "source": []
  },
  {
   "cell_type": "markdown",
   "metadata": {},
   "source": [
    "# Tweeter Data"
   ]
  },
  {
   "cell_type": "code",
   "execution_count": null,
   "metadata": {},
   "outputs": [],
   "source": [
    "sqlfile = path_dir+'\\\\input\\\\corona_tweets_2L\\\\tweets.db'"
   ]
  },
  {
   "cell_type": "code",
   "execution_count": null,
   "metadata": {},
   "outputs": [],
   "source": [
    "conn = sqlite3.connect(sqlfile)\n",
    "cur = conn.cursor()\n",
    "cur.execute(\"select * from sentiment\")"
   ]
  },
  {
   "cell_type": "code",
   "execution_count": null,
   "metadata": {},
   "outputs": [],
   "source": [
    "tweets_df = pd.DataFrame(cur.fetchall())\n",
    "tweets_df.columns=['UnixID','tweets','sentiments']\n",
    "conn.close()\n",
    "tweets_df.head()"
   ]
  },
  {
   "cell_type": "code",
   "execution_count": null,
   "metadata": {},
   "outputs": [],
   "source": [
    "tweets_df['Date'] = pd.to_datetime(tweets_df.UnixID.astype('int64'), unit='ms',origin='unix')\n",
    "tweets_df.head()"
   ]
  },
  {
   "cell_type": "code",
   "execution_count": null,
   "metadata": {},
   "outputs": [],
   "source": [
    "tweets_df.tweets[2]"
   ]
  },
  {
   "cell_type": "code",
   "execution_count": null,
   "metadata": {},
   "outputs": [],
   "source": [
    "tweets_df.to_csv(path_dir+'\\\\output\\\\Tweeter_2L.csv')"
   ]
  },
  {
   "cell_type": "code",
   "execution_count": null,
   "metadata": {},
   "outputs": [],
   "source": []
  },
  {
   "cell_type": "markdown",
   "metadata": {
    "heading_collapsed": true
   },
   "source": [
    "# END"
   ]
  },
  {
   "cell_type": "code",
   "execution_count": null,
   "metadata": {
    "hidden": true
   },
   "outputs": [],
   "source": [
    "# Probability Distribution Fitting"
   ]
  },
  {
   "cell_type": "code",
   "execution_count": null,
   "metadata": {
    "hidden": true
   },
   "outputs": [],
   "source": [
    "temp = agg_df[agg_df['Country/Region']=='Italy']\n",
    "temp=temp[['Date','Confirmed','New_case']].set_index('Date')\n",
    "temp = temp.sort_index()\n",
    "temp = temp.reset_index(drop = True)\n",
    "temp = temp.drop([0])\n",
    "temp.head()"
   ]
  },
  {
   "cell_type": "code",
   "execution_count": null,
   "metadata": {
    "hidden": true
   },
   "outputs": [],
   "source": [
    "plt.figure(figsize=(10,8))\n",
    "ax = temp.New_case.plot(kind='bar')\n",
    "plt.show()"
   ]
  },
  {
   "cell_type": "code",
   "execution_count": null,
   "metadata": {
    "hidden": true
   },
   "outputs": [],
   "source": [
    "def func(x, a, b, c):\n",
    "  #return a * np.exp(-b * x) + c\n",
    "  return a * np.log(b * x) + c\n",
    "\n",
    "x = np.array(temp.New_case)\n",
    "y = np.array(temp.index)\n",
    "\n",
    "popt, pcov = scipy.optimize.curve_fit(func, x, y)"
   ]
  },
  {
   "cell_type": "code",
   "execution_count": null,
   "metadata": {
    "hidden": true
   },
   "outputs": [],
   "source": [
    "pcov"
   ]
  },
  {
   "cell_type": "code",
   "execution_count": null,
   "metadata": {
    "hidden": true
   },
   "outputs": [],
   "source": [
    "def func(x, a, b, c,d):\n",
    "  #return a * np.exp(-b * x) + c\n",
    "  return a * np.log(b * x*x +c*x) + d\n",
    "\n",
    "x = np.array(temp.New_case)\n",
    "y = np.array(temp.index)\n",
    "\n",
    "popt, pcov = scipy.optimize.curve_fit(func, x, y)\n",
    "\n",
    "plt.figure(figsize=(12,6))\n",
    "plt.plot(x, y, 'ko', label=\"Original Incident Data\")\n",
    "plt.plot(x, func(x, *popt), 'r-', label=\"Fitted Curve\")\n",
    "plt.legend()\n",
    "plt.show()"
   ]
  },
  {
   "cell_type": "code",
   "execution_count": null,
   "metadata": {
    "hidden": true
   },
   "outputs": [],
   "source": []
  },
  {
   "cell_type": "code",
   "execution_count": null,
   "metadata": {
    "hidden": true
   },
   "outputs": [],
   "source": []
  },
  {
   "cell_type": "code",
   "execution_count": null,
   "metadata": {
    "hidden": true
   },
   "outputs": [],
   "source": []
  },
  {
   "cell_type": "code",
   "execution_count": null,
   "metadata": {
    "hidden": true
   },
   "outputs": [],
   "source": []
  },
  {
   "cell_type": "code",
   "execution_count": null,
   "metadata": {
    "hidden": true
   },
   "outputs": [],
   "source": []
  },
  {
   "cell_type": "code",
   "execution_count": null,
   "metadata": {
    "hidden": true
   },
   "outputs": [],
   "source": []
  },
  {
   "cell_type": "code",
   "execution_count": null,
   "metadata": {
    "hidden": true
   },
   "outputs": [],
   "source": []
  },
  {
   "cell_type": "code",
   "execution_count": null,
   "metadata": {
    "hidden": true
   },
   "outputs": [],
   "source": []
  },
  {
   "cell_type": "code",
   "execution_count": null,
   "metadata": {
    "hidden": true
   },
   "outputs": [],
   "source": []
  },
  {
   "cell_type": "code",
   "execution_count": null,
   "metadata": {
    "hidden": true
   },
   "outputs": [],
   "source": [
    "smean = temp.New_case.mean()\n",
    "rate = 1. / smean\n",
    "smean"
   ]
  },
  {
   "cell_type": "code",
   "execution_count": null,
   "metadata": {
    "hidden": true
   },
   "outputs": [],
   "source": [
    "smax = temp.New_case.max()\n",
    "days = np.linspace(0., smax, 1000)\n",
    "# bin size: interval between two\n",
    "# consecutive values in `days`\n",
    "dt = smax / 999.\n",
    "smax"
   ]
  },
  {
   "cell_type": "code",
   "execution_count": null,
   "metadata": {
    "hidden": true
   },
   "outputs": [],
   "source": [
    "nbins = 90\n",
    "fig, ax = plt.subplots(1, 1, figsize=(6, 4))\n",
    "ax.hist(temp.New_case)"
   ]
  },
  {
   "cell_type": "code",
   "execution_count": null,
   "metadata": {
    "hidden": true
   },
   "outputs": [],
   "source": [
    "dist_exp = st.expon.pdf(days, scale=1. / rate)"
   ]
  },
  {
   "cell_type": "code",
   "execution_count": null,
   "metadata": {
    "hidden": true
   },
   "outputs": [],
   "source": [
    "nbins = 30\n",
    "fig, ax = plt.subplots(1, 1, figsize=(6, 4))\n",
    "ax.hist(temp.New_case, nbins)\n",
    "ax.plot(days, dist_exp * len(temp.New_case) * smax / nbins,\n",
    "        '-r', lw=3)\n",
    "ax.set_xlabel(\"Incident days\")\n",
    "ax.set_ylabel(\"Number of Confirmed Case\")"
   ]
  },
  {
   "cell_type": "code",
   "execution_count": null,
   "metadata": {
    "hidden": true
   },
   "outputs": [],
   "source": []
  },
  {
   "cell_type": "code",
   "execution_count": null,
   "metadata": {
    "hidden": true
   },
   "outputs": [],
   "source": [
    "import matplotlib.pyplot as plt\n",
    "import scipy\n",
    "import scipy.stats\n",
    "size = 30000\n",
    "x = scipy.arange(size)\n",
    "y = scipy.int_(scipy.round_(scipy.stats.vonmises.rvs(5,size=size)*47))\n",
    "plt.figure(figsize=(10,8))\n",
    "h = plt.hist(y, bins=range(48))\n",
    "\n",
    "dist_names = ['gamma', 'beta', 'rayleigh', 'norm', 'pareto']\n",
    "\n",
    "for dist_name in dist_names:\n",
    "    dist = getattr(scipy.stats, dist_name)\n",
    "    param = dist.fit(y)\n",
    "    pdf_fitted = dist.pdf(x, *param[:-2], loc=param[-2], scale=param[-1]) * size\n",
    "    plt.plot(pdf_fitted, label=dist_name)\n",
    "    plt.xlim(0,47)\n",
    "    \n",
    "plt.legend(loc='upper right')\n",
    "plt.show()"
   ]
  },
  {
   "cell_type": "code",
   "execution_count": null,
   "metadata": {
    "hidden": true
   },
   "outputs": [],
   "source": []
  },
  {
   "cell_type": "code",
   "execution_count": null,
   "metadata": {
    "hidden": true
   },
   "outputs": [],
   "source": []
  },
  {
   "cell_type": "code",
   "execution_count": null,
   "metadata": {
    "hidden": true
   },
   "outputs": [],
   "source": []
  },
  {
   "cell_type": "code",
   "execution_count": null,
   "metadata": {
    "hidden": true
   },
   "outputs": [],
   "source": []
  },
  {
   "cell_type": "code",
   "execution_count": null,
   "metadata": {
    "hidden": true
   },
   "outputs": [],
   "source": [
    "# %%time\n",
    "# agg_df['New_case'] = agg_df.Confirmed.rolling(window=2).apply(lambda x: x.iloc[1]-x.iloc[0]).replace(np.nan,0)\n",
    "# agg_df = agg_df.sort_values(by=['Province/State','Country/Region','Date'],ascending=[True,True,False])\n",
    "# agg_df.head()"
   ]
  },
  {
   "cell_type": "code",
   "execution_count": null,
   "metadata": {
    "hidden": true
   },
   "outputs": [],
   "source": [
    "# %%time\n",
    "# agg_df['Growth_Factor'] = agg_df.New_case.rolling(window=2).apply(lambda x: x.iloc[0]/x.iloc[1]).replace([np.nan,np.inf],0)\n",
    "# agg_df.head()"
   ]
  },
  {
   "cell_type": "code",
   "execution_count": null,
   "metadata": {
    "hidden": true
   },
   "outputs": [],
   "source": [
    "# https://towardsdatascience.com/covid-19-infection-in-italy-mathematical-models-and-predictions-7784b4d7dd8d"
   ]
  }
 ],
 "metadata": {
  "kernelspec": {
   "display_name": "Python 3",
   "language": "python",
   "name": "python3"
  },
  "language_info": {
   "codemirror_mode": {
    "name": "ipython",
    "version": 3
   },
   "file_extension": ".py",
   "mimetype": "text/x-python",
   "name": "python",
   "nbconvert_exporter": "python",
   "pygments_lexer": "ipython3",
   "version": "3.8.1"
  },
  "toc": {
   "base_numbering": 1,
   "nav_menu": {},
   "number_sections": true,
   "sideBar": true,
   "skip_h1_title": false,
   "title_cell": "Table of Contents",
   "title_sidebar": "Contents",
   "toc_cell": false,
   "toc_position": {
    "height": "calc(100% - 180px)",
    "left": "10px",
    "top": "150px",
    "width": "249px"
   },
   "toc_section_display": true,
   "toc_window_display": true
  },
  "varInspector": {
   "cols": {
    "lenName": 16,
    "lenType": 16,
    "lenVar": 40
   },
   "kernels_config": {
    "python": {
     "delete_cmd_postfix": "",
     "delete_cmd_prefix": "del ",
     "library": "var_list.py",
     "varRefreshCmd": "print(var_dic_list())"
    },
    "r": {
     "delete_cmd_postfix": ") ",
     "delete_cmd_prefix": "rm(",
     "library": "var_list.r",
     "varRefreshCmd": "cat(var_dic_list()) "
    }
   },
   "types_to_exclude": [
    "module",
    "function",
    "builtin_function_or_method",
    "instance",
    "_Feature"
   ],
   "window_display": false
  }
 },
 "nbformat": 4,
 "nbformat_minor": 4
}
