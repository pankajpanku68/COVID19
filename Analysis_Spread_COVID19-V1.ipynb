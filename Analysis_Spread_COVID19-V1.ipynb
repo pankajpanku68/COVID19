{
 "cells": [
  {
   "cell_type": "code",
   "execution_count": 1,
   "metadata": {},
   "outputs": [],
   "source": [
    "import pandas as pd\n",
    "import numpy as np\n",
    "import time\n",
    "import datetime\n",
    "import matplotlib.pyplot as plt\n",
    "import seaborn as sns\n",
    "import scipy.stats as st\n",
    "from sklearn.metrics import mean_squared_error\n",
    "from scipy.optimize import curve_fit\n",
    "from scipy.optimize import fsolve\n",
    "import matplotlib.pyplot as plt\n",
    "import warnings\n",
    "%matplotlib inline\n",
    "warnings.filterwarnings(\"ignore\")"
   ]
  },
  {
   "cell_type": "code",
   "execution_count": 2,
   "metadata": {},
   "outputs": [],
   "source": [
    "path_dir = 'C:\\\\Users\\\\kumapank\\\\Documents\\\\COVID-19\\\\'"
   ]
  },
  {
   "cell_type": "markdown",
   "metadata": {},
   "source": [
    "# Read Master Data"
   ]
  },
  {
   "cell_type": "code",
   "execution_count": 3,
   "metadata": {},
   "outputs": [
    {
     "name": "stdout",
     "output_type": "stream",
     "text": [
      "Wall time: 93.7 ms\n"
     ]
    },
    {
     "data": {
      "text/html": [
       "<div>\n",
       "<style scoped>\n",
       "    .dataframe tbody tr th:only-of-type {\n",
       "        vertical-align: middle;\n",
       "    }\n",
       "\n",
       "    .dataframe tbody tr th {\n",
       "        vertical-align: top;\n",
       "    }\n",
       "\n",
       "    .dataframe thead th {\n",
       "        text-align: right;\n",
       "    }\n",
       "</style>\n",
       "<table border=\"1\" class=\"dataframe\">\n",
       "  <thead>\n",
       "    <tr style=\"text-align: right;\">\n",
       "      <th></th>\n",
       "      <th>Province/State</th>\n",
       "      <th>Country/Region</th>\n",
       "      <th>Lat</th>\n",
       "      <th>Long</th>\n",
       "      <th>Date</th>\n",
       "      <th>Confirmed</th>\n",
       "      <th>Death</th>\n",
       "      <th>Recovered</th>\n",
       "      <th>New_case</th>\n",
       "      <th>Growth_Factor</th>\n",
       "      <th>Country Code</th>\n",
       "      <th>density_2018</th>\n",
       "      <th>Demography_2018</th>\n",
       "      <th>DrRatio</th>\n",
       "      <th>PatientBed</th>\n",
       "    </tr>\n",
       "  </thead>\n",
       "  <tbody>\n",
       "    <tr>\n",
       "      <th>0</th>\n",
       "      <td>Adams, IN</td>\n",
       "      <td>US</td>\n",
       "      <td>39.8522</td>\n",
       "      <td>-77.2865</td>\n",
       "      <td>2020-03-19</td>\n",
       "      <td>0</td>\n",
       "      <td>0</td>\n",
       "      <td>0</td>\n",
       "      <td>0.0</td>\n",
       "      <td>0.0</td>\n",
       "      <td>USA</td>\n",
       "      <td>35.766089</td>\n",
       "      <td>65.483306</td>\n",
       "      <td>1.999229</td>\n",
       "      <td>5.02</td>\n",
       "    </tr>\n",
       "    <tr>\n",
       "      <th>1</th>\n",
       "      <td>Adams, IN</td>\n",
       "      <td>US</td>\n",
       "      <td>39.8522</td>\n",
       "      <td>-77.2865</td>\n",
       "      <td>2020-03-18</td>\n",
       "      <td>0</td>\n",
       "      <td>0</td>\n",
       "      <td>0</td>\n",
       "      <td>0.0</td>\n",
       "      <td>0.0</td>\n",
       "      <td>USA</td>\n",
       "      <td>35.766089</td>\n",
       "      <td>65.483306</td>\n",
       "      <td>1.999229</td>\n",
       "      <td>5.02</td>\n",
       "    </tr>\n",
       "    <tr>\n",
       "      <th>2</th>\n",
       "      <td>Adams, IN</td>\n",
       "      <td>US</td>\n",
       "      <td>39.8522</td>\n",
       "      <td>-77.2865</td>\n",
       "      <td>2020-03-17</td>\n",
       "      <td>0</td>\n",
       "      <td>0</td>\n",
       "      <td>0</td>\n",
       "      <td>0.0</td>\n",
       "      <td>0.0</td>\n",
       "      <td>USA</td>\n",
       "      <td>35.766089</td>\n",
       "      <td>65.483306</td>\n",
       "      <td>1.999229</td>\n",
       "      <td>5.02</td>\n",
       "    </tr>\n",
       "    <tr>\n",
       "      <th>3</th>\n",
       "      <td>Adams, IN</td>\n",
       "      <td>US</td>\n",
       "      <td>39.8522</td>\n",
       "      <td>-77.2865</td>\n",
       "      <td>2020-03-16</td>\n",
       "      <td>0</td>\n",
       "      <td>0</td>\n",
       "      <td>0</td>\n",
       "      <td>0.0</td>\n",
       "      <td>0.0</td>\n",
       "      <td>USA</td>\n",
       "      <td>35.766089</td>\n",
       "      <td>65.483306</td>\n",
       "      <td>1.999229</td>\n",
       "      <td>5.02</td>\n",
       "    </tr>\n",
       "    <tr>\n",
       "      <th>4</th>\n",
       "      <td>Adams, IN</td>\n",
       "      <td>US</td>\n",
       "      <td>39.8522</td>\n",
       "      <td>-77.2865</td>\n",
       "      <td>2020-03-15</td>\n",
       "      <td>0</td>\n",
       "      <td>0</td>\n",
       "      <td>0</td>\n",
       "      <td>0.0</td>\n",
       "      <td>0.0</td>\n",
       "      <td>USA</td>\n",
       "      <td>35.766089</td>\n",
       "      <td>65.483306</td>\n",
       "      <td>1.999229</td>\n",
       "      <td>5.02</td>\n",
       "    </tr>\n",
       "  </tbody>\n",
       "</table>\n",
       "</div>"
      ],
      "text/plain": [
       "  Province/State Country/Region      Lat     Long        Date  Confirmed  \\\n",
       "0      Adams, IN             US  39.8522 -77.2865  2020-03-19          0   \n",
       "1      Adams, IN             US  39.8522 -77.2865  2020-03-18          0   \n",
       "2      Adams, IN             US  39.8522 -77.2865  2020-03-17          0   \n",
       "3      Adams, IN             US  39.8522 -77.2865  2020-03-16          0   \n",
       "4      Adams, IN             US  39.8522 -77.2865  2020-03-15          0   \n",
       "\n",
       "   Death  Recovered  New_case  Growth_Factor Country Code  density_2018  \\\n",
       "0      0          0       0.0            0.0          USA     35.766089   \n",
       "1      0          0       0.0            0.0          USA     35.766089   \n",
       "2      0          0       0.0            0.0          USA     35.766089   \n",
       "3      0          0       0.0            0.0          USA     35.766089   \n",
       "4      0          0       0.0            0.0          USA     35.766089   \n",
       "\n",
       "   Demography_2018   DrRatio  PatientBed  \n",
       "0        65.483306  1.999229        5.02  \n",
       "1        65.483306  1.999229        5.02  \n",
       "2        65.483306  1.999229        5.02  \n",
       "3        65.483306  1.999229        5.02  \n",
       "4        65.483306  1.999229        5.02  "
      ]
     },
     "execution_count": 3,
     "metadata": {},
     "output_type": "execute_result"
    }
   ],
   "source": [
    "%%time\n",
    "mst_df = pd.read_csv(path_dir+'\\\\output\\\\Covid19_master_dataV1.csv')\n",
    "mst_df.head()"
   ]
  },
  {
   "cell_type": "code",
   "execution_count": 4,
   "metadata": {},
   "outputs": [],
   "source": [
    "mst_df.Date = pd.to_datetime(mst_df.Date)"
   ]
  },
  {
   "cell_type": "code",
   "execution_count": 5,
   "metadata": {},
   "outputs": [
    {
     "data": {
      "text/html": [
       "<div>\n",
       "<style scoped>\n",
       "    .dataframe tbody tr th:only-of-type {\n",
       "        vertical-align: middle;\n",
       "    }\n",
       "\n",
       "    .dataframe tbody tr th {\n",
       "        vertical-align: top;\n",
       "    }\n",
       "\n",
       "    .dataframe thead th {\n",
       "        text-align: right;\n",
       "    }\n",
       "</style>\n",
       "<table border=\"1\" class=\"dataframe\">\n",
       "  <thead>\n",
       "    <tr style=\"text-align: right;\">\n",
       "      <th></th>\n",
       "      <th>Province/State</th>\n",
       "      <th>Country/Region</th>\n",
       "      <th>Lat</th>\n",
       "      <th>Long</th>\n",
       "      <th>Date</th>\n",
       "      <th>Confirmed</th>\n",
       "      <th>Death</th>\n",
       "      <th>Recovered</th>\n",
       "      <th>New_case</th>\n",
       "      <th>Growth_Factor</th>\n",
       "      <th>Country Code</th>\n",
       "      <th>density_2018</th>\n",
       "      <th>Demography_2018</th>\n",
       "      <th>DrRatio</th>\n",
       "      <th>PatientBed</th>\n",
       "    </tr>\n",
       "  </thead>\n",
       "  <tbody>\n",
       "    <tr>\n",
       "      <th>0</th>\n",
       "      <td>Adams, IN</td>\n",
       "      <td>US</td>\n",
       "      <td>39.8522</td>\n",
       "      <td>-77.2865</td>\n",
       "      <td>2020-03-19</td>\n",
       "      <td>0</td>\n",
       "      <td>0</td>\n",
       "      <td>0</td>\n",
       "      <td>0.0</td>\n",
       "      <td>0.0</td>\n",
       "      <td>USA</td>\n",
       "      <td>35.766089</td>\n",
       "      <td>65.483306</td>\n",
       "      <td>1.999229</td>\n",
       "      <td>5.02</td>\n",
       "    </tr>\n",
       "    <tr>\n",
       "      <th>1</th>\n",
       "      <td>Adams, IN</td>\n",
       "      <td>US</td>\n",
       "      <td>39.8522</td>\n",
       "      <td>-77.2865</td>\n",
       "      <td>2020-03-18</td>\n",
       "      <td>0</td>\n",
       "      <td>0</td>\n",
       "      <td>0</td>\n",
       "      <td>0.0</td>\n",
       "      <td>0.0</td>\n",
       "      <td>USA</td>\n",
       "      <td>35.766089</td>\n",
       "      <td>65.483306</td>\n",
       "      <td>1.999229</td>\n",
       "      <td>5.02</td>\n",
       "    </tr>\n",
       "    <tr>\n",
       "      <th>2</th>\n",
       "      <td>Adams, IN</td>\n",
       "      <td>US</td>\n",
       "      <td>39.8522</td>\n",
       "      <td>-77.2865</td>\n",
       "      <td>2020-03-17</td>\n",
       "      <td>0</td>\n",
       "      <td>0</td>\n",
       "      <td>0</td>\n",
       "      <td>0.0</td>\n",
       "      <td>0.0</td>\n",
       "      <td>USA</td>\n",
       "      <td>35.766089</td>\n",
       "      <td>65.483306</td>\n",
       "      <td>1.999229</td>\n",
       "      <td>5.02</td>\n",
       "    </tr>\n",
       "    <tr>\n",
       "      <th>3</th>\n",
       "      <td>Adams, IN</td>\n",
       "      <td>US</td>\n",
       "      <td>39.8522</td>\n",
       "      <td>-77.2865</td>\n",
       "      <td>2020-03-16</td>\n",
       "      <td>0</td>\n",
       "      <td>0</td>\n",
       "      <td>0</td>\n",
       "      <td>0.0</td>\n",
       "      <td>0.0</td>\n",
       "      <td>USA</td>\n",
       "      <td>35.766089</td>\n",
       "      <td>65.483306</td>\n",
       "      <td>1.999229</td>\n",
       "      <td>5.02</td>\n",
       "    </tr>\n",
       "    <tr>\n",
       "      <th>4</th>\n",
       "      <td>Adams, IN</td>\n",
       "      <td>US</td>\n",
       "      <td>39.8522</td>\n",
       "      <td>-77.2865</td>\n",
       "      <td>2020-03-15</td>\n",
       "      <td>0</td>\n",
       "      <td>0</td>\n",
       "      <td>0</td>\n",
       "      <td>0.0</td>\n",
       "      <td>0.0</td>\n",
       "      <td>USA</td>\n",
       "      <td>35.766089</td>\n",
       "      <td>65.483306</td>\n",
       "      <td>1.999229</td>\n",
       "      <td>5.02</td>\n",
       "    </tr>\n",
       "  </tbody>\n",
       "</table>\n",
       "</div>"
      ],
      "text/plain": [
       "  Province/State Country/Region      Lat     Long       Date  Confirmed  \\\n",
       "0      Adams, IN             US  39.8522 -77.2865 2020-03-19          0   \n",
       "1      Adams, IN             US  39.8522 -77.2865 2020-03-18          0   \n",
       "2      Adams, IN             US  39.8522 -77.2865 2020-03-17          0   \n",
       "3      Adams, IN             US  39.8522 -77.2865 2020-03-16          0   \n",
       "4      Adams, IN             US  39.8522 -77.2865 2020-03-15          0   \n",
       "\n",
       "   Death  Recovered  New_case  Growth_Factor Country Code  density_2018  \\\n",
       "0      0          0       0.0            0.0          USA     35.766089   \n",
       "1      0          0       0.0            0.0          USA     35.766089   \n",
       "2      0          0       0.0            0.0          USA     35.766089   \n",
       "3      0          0       0.0            0.0          USA     35.766089   \n",
       "4      0          0       0.0            0.0          USA     35.766089   \n",
       "\n",
       "   Demography_2018   DrRatio  PatientBed  \n",
       "0        65.483306  1.999229        5.02  \n",
       "1        65.483306  1.999229        5.02  \n",
       "2        65.483306  1.999229        5.02  \n",
       "3        65.483306  1.999229        5.02  \n",
       "4        65.483306  1.999229        5.02  "
      ]
     },
     "execution_count": 5,
     "metadata": {},
     "output_type": "execute_result"
    }
   ],
   "source": [
    "mst_df.head()"
   ]
  },
  {
   "cell_type": "markdown",
   "metadata": {},
   "source": [
    "# COVID19: Growth Factor "
   ]
  },
  {
   "cell_type": "code",
   "execution_count": 6,
   "metadata": {},
   "outputs": [],
   "source": [
    "def plot_country_growth_factor(Country):\n",
    "    temp = mst_df[mst_df['Country/Region'] == Country]\n",
    "    temp = pd.DataFrame(temp.groupby(by=['Country/Region','Date']).New_case.sum()).reset_index()\n",
    "    temp = temp.sort_values(by=['Date'],ascending=False)\n",
    "    temp['Growth_Factor'] = temp.New_case.rolling(window=2).apply(lambda x: x.iloc[0]/x.iloc[1]).replace([np.nan,np.inf],0)\n",
    "    temp.loc[temp.Date =='2020-03-18','Growth_Factor'] = None\n",
    "    sns.set(style=\"darkgrid\")\n",
    "    plt.figure(figsize=(12,5))\n",
    "    ax = sns.lineplot(x=\"Date\", y=\"Growth_Factor\", lw=1,data=temp)\n",
    "    ax.set_title(Country +' COVID19 Growth Plot')\n",
    "    ax.axhline(1)\n",
    "    return"
   ]
  },
  {
   "cell_type": "markdown",
   "metadata": {
    "heading_collapsed": true
   },
   "source": [
    "## Country Growth Factor Plots"
   ]
  },
  {
   "cell_type": "code",
   "execution_count": null,
   "metadata": {
    "hidden": true
   },
   "outputs": [],
   "source": [
    "plot_country_growth_factor('China')\n",
    "plot_country_growth_factor('Italy')\n",
    "plot_country_growth_factor('US')\n",
    "plot_country_growth_factor('India')"
   ]
  },
  {
   "cell_type": "markdown",
   "metadata": {},
   "source": [
    "# Probability Distribution Fitting"
   ]
  },
  {
   "cell_type": "code",
   "execution_count": 7,
   "metadata": {},
   "outputs": [],
   "source": [
    "def logistic_model(x,a,b,c):\n",
    "    return c/(1+np.exp(-(x-b)/a))"
   ]
  },
  {
   "cell_type": "code",
   "execution_count": 8,
   "metadata": {},
   "outputs": [],
   "source": [
    "def exponential_model(x,a,b,c):\n",
    "    return a*np.exp(b*(x-c))"
   ]
  },
  {
   "cell_type": "code",
   "execution_count": 9,
   "metadata": {},
   "outputs": [],
   "source": [
    "def DistributionFitting(Country, add_function='Sigmoid'):\n",
    "    temp = mst_df[mst_df['Country/Region']==Country]\n",
    "    st_dt = pd.to_datetime('2020-01-21', format='%Y-%m-%d')\n",
    "    Days_sinceJan = temp.Date.apply(lambda x: x-st_dt)\n",
    "    temp['Days_sinceJan'] = Days_sinceJan.dt.days\n",
    "    temp=temp[['Days_sinceJan','Confirmed','New_case']]#.set_index('Days_sinceJan')\n",
    "    temp = pd.DataFrame(temp.groupby(by=['Days_sinceJan']).Confirmed.sum())\n",
    "    # Data set\n",
    "    y=np.array(temp.Confirmed)\n",
    "    x=np.array(temp.index)\n",
    "    # Sigmoid Curve Fitting\n",
    "    if Country != 'US':\n",
    "        fit = curve_fit(logistic_model,x,y,p0=[1,2,500])\n",
    "        errors = [np.sqrt(fit[1][i][i]) for i in [0,1,2]]\n",
    "        a,b,c = [x for x in fit[0]]\n",
    "        sol = int(fsolve(lambda x : logistic_model(x,a,b,c) - int(c),b))\n",
    "    else:\n",
    "        sol = max(x)\n",
    "        # Exponential Curve Fitting\n",
    "    exp_fit = curve_fit(exponential_model,x,y,p0=[1,1,1])\n",
    "    exp_errors = [np.sqrt(exp_fit[1][i][i]) for i in [0,1,2]]\n",
    "    \n",
    "    #Plotting the Graphs\n",
    "    pred_x = list(range(max(x),sol))\n",
    "    lim = np.unique(list(x)+pred_x)\n",
    "    lim1 = list(x)+list(range(max(x)+1,max(x)+5))\n",
    "    plt.rcParams['figure.figsize'] = [10, 7]\n",
    "    plt.rc('font', size=10)\n",
    "    \n",
    "    # Real data\n",
    "    plt.scatter(x,y,label=\"Real data\",color=\"red\")\n",
    "    \n",
    "    # Predicted logistic curve\n",
    "    if Country != 'US':\n",
    "        plt.plot(lim, [logistic_model(i,fit[0][0],fit[0][1],fit[0][2]) for i in lim], label=\"Sigmoid model\" )\n",
    "    \n",
    "    # Predicted exponential curve\n",
    "    if (add_function == 'Exponential'):\n",
    "        plt.plot(lim1, [exponential_model(i,exp_fit[0][0],exp_fit[0][1],exp_fit[0][2]) for i in lim1], label=\"Exponential model\" )\n",
    "    \n",
    "    plt.legend()\n",
    "    plt.title(Country +' Distribution Fitting for COVID19 Confirmed Case')\n",
    "    plt.xlabel(\"Days since 21 January 2020\")\n",
    "    plt.ylabel(\"Total number of infected people\")\n",
    "    plt.show()\n",
    "    \n",
    "    #Printing\n",
    "    if Country != 'US':\n",
    "        print('Sigmoid Parameters')\n",
    "        print(f'Inflextion Speed/Slope: '+'{:.2f}'.format(a) + '; Inflextion Day:',int(b),\n",
    "                     '; Affected person till saturation:',int(c))\n",
    "        print('Standard Errors of estimates :', errors)\n",
    "\n",
    "    if (add_function == 'Exponential'):\n",
    "        print()\n",
    "        print('Exponential Parameters')\n",
    "        print(f'Growth Factor:',exp_fit[0][1])\n",
    "        print('Standard Errors of estimates :', exp_errors[1])\n",
    "\n",
    "    return ;\n",
    "    "
   ]
  },
  {
   "cell_type": "markdown",
   "metadata": {},
   "source": [
    "## Country Level Curve Fitting "
   ]
  },
  {
   "cell_type": "code",
   "execution_count": 10,
   "metadata": {},
   "outputs": [
    {
     "data": {
      "image/png": "[encoded data removed]",
      "text/plain": [
       "<Figure size 720x504 with 1 Axes>"
      ]
     },
     "metadata": {
      "needs_background": "light"
     },
     "output_type": "display_data"
    },
    {
     "name": "stdout",
     "output_type": "stream",
     "text": [
      "Sigmoid Parameters\n",
      "Inflextion Speed/Slope: 4.50; Inflextion Day: 18 ; Affected person till saturation: 80936\n",
      "Standard Errors of estimates : [0.13675607536123635, 0.1581898122902288, 449.9059744842819]\n"
     ]
    }
   ],
   "source": [
    "DistributionFitting('China')"
   ]
  },
  {
   "cell_type": "code",
   "execution_count": 11,
   "metadata": {},
   "outputs": [
    {
     "data": {
      "image/png": "[encoded data removed]",
      "text/plain": [
       "<Figure size 720x504 with 1 Axes>"
      ]
     },
     "metadata": {
      "needs_background": "light"
     },
     "output_type": "display_data"
    },
    {
     "name": "stdout",
     "output_type": "stream",
     "text": [
      "Sigmoid Parameters\n",
      "Inflextion Speed/Slope: 4.65; Inflextion Day: 58 ; Affected person till saturation: 82198\n",
      "Standard Errors of estimates : [0.11931053120035173, 0.5635146043658624, 5419.630132270755]\n",
      "\n",
      "Exponential Parameters\n",
      "Growth Factor: 0.1594120213205263\n",
      "Standard Errors of estimates : 0.0029428270694568585\n"
     ]
    }
   ],
   "source": [
    "DistributionFitting('Italy', add_function='Exponential')"
   ]
  },
  {
   "cell_type": "code",
   "execution_count": 12,
   "metadata": {},
   "outputs": [
    {
     "data": {
      "image/png": "[encoded data removed]",
      "text/plain": [
       "<Figure size 720x504 with 1 Axes>"
      ]
     },
     "metadata": {
      "needs_background": "light"
     },
     "output_type": "display_data"
    },
    {
     "name": "stdout",
     "output_type": "stream",
     "text": [
      "\n",
      "Exponential Parameters\n",
      "Growth Factor: 0.32618949008937254\n",
      "Standard Errors of estimates : inf\n"
     ]
    }
   ],
   "source": [
    "DistributionFitting('US',add_function='Exponential')"
   ]
  },
  {
   "cell_type": "code",
   "execution_count": 14,
   "metadata": {},
   "outputs": [
    {
     "data": {
      "image/png": "[encoded data removed]",
      "text/plain": [
       "<Figure size 720x504 with 1 Axes>"
      ]
     },
     "metadata": {
      "needs_background": "light"
     },
     "output_type": "display_data"
    },
    {
     "name": "stdout",
     "output_type": "stream",
     "text": [
      "Sigmoid Parameters\n",
      "Inflextion Speed/Slope: 3.02; Inflextion Day: 40 ; Affected person till saturation: 8265\n",
      "Standard Errors of estimates : [0.05118042879217625, 0.06148562273741068, 35.19182044170732]\n"
     ]
    }
   ],
   "source": [
    "DistributionFitting('Korea, South')"
   ]
  },
  {
   "cell_type": "code",
   "execution_count": 16,
   "metadata": {},
   "outputs": [
    {
     "data": {
      "image/png": "[encoded data removed]",
      "text/plain": [
       "<Figure size 720x504 with 1 Axes>"
      ]
     },
     "metadata": {
      "needs_background": "light"
     },
     "output_type": "display_data"
    },
    {
     "name": "stdout",
     "output_type": "stream",
     "text": [
      "Sigmoid Parameters\n",
      "Inflextion Speed/Slope: 5.60; Inflextion Day: 61 ; Affected person till saturation: 511\n",
      "Standard Errors of estimates : [0.3430486685694958, 2.284615956628935, 128.56609455820487]\n"
     ]
    }
   ],
   "source": [
    "DistributionFitting('India')"
   ]
  },
  {
   "cell_type": "code",
   "execution_count": null,
   "metadata": {},
   "outputs": [],
   "source": []
  },
  {
   "cell_type": "code",
   "execution_count": null,
   "metadata": {},
   "outputs": [],
   "source": []
  },
  {
   "cell_type": "code",
   "execution_count": null,
   "metadata": {},
   "outputs": [],
   "source": []
  },
  {
   "cell_type": "code",
   "execution_count": null,
   "metadata": {},
   "outputs": [],
   "source": []
  },
  {
   "cell_type": "code",
   "execution_count": null,
   "metadata": {},
   "outputs": [],
   "source": []
  },
  {
   "cell_type": "markdown",
   "metadata": {},
   "source": [
    "# References\n",
    "Reference: <br> http://www.engineeringenotes.com/water-engineering-2/water-quantity/forecasting-of-population-9-methods-water-quantity-water-engineering/16158\n",
    "<br> https://en.wikipedia.org/wiki/Logistic_distribution\n",
    "<br> https://en.wikipedia.org/wiki/Exponential_growth"
   ]
  },
  {
   "cell_type": "markdown",
   "metadata": {
    "heading_collapsed": true
   },
   "source": [
    "# End"
   ]
  },
  {
   "cell_type": "code",
   "execution_count": null,
   "metadata": {
    "hidden": true
   },
   "outputs": [],
   "source": []
  },
  {
   "cell_type": "code",
   "execution_count": null,
   "metadata": {
    "hidden": true
   },
   "outputs": [],
   "source": [
    "temp = mst_df[mst_df['Country/Region']=='India']\n",
    "st_dt = pd.to_datetime('2020-01-21', format='%Y-%m-%d')\n",
    "Days_sinceJan = temp.Date.apply(lambda x: x-st_dt)\n",
    "temp['Days_sinceJan'] = Days_sinceJan.dt.days"
   ]
  },
  {
   "cell_type": "code",
   "execution_count": null,
   "metadata": {
    "hidden": true
   },
   "outputs": [],
   "source": [
    "temp=temp[['Days_sinceJan','Confirmed','New_case']]#.set_index('Days_sinceJan')\n",
    "temp = pd.DataFrame(temp.groupby(by=['Days_sinceJan']).Confirmed.sum())\n",
    "# temp = temp.sort_index()\n",
    "temp.head()"
   ]
  },
  {
   "cell_type": "code",
   "execution_count": null,
   "metadata": {
    "hidden": true
   },
   "outputs": [],
   "source": [
    "x=np.array(temp.Confirmed)\n",
    "y=np.array(temp.index)\n",
    "fig, ax = plt.subplots(1, 1, figsize=(10, 7))\n",
    "ax.scatter(x,y,label=\"Real data\",color=\"red\")\n",
    "ax.legend()\n",
    "ax.set_ylabel(\"Incident days Since 21 Jan\")\n",
    "ax.set_xlabel(\"Number of Confirmed Case\")"
   ]
  },
  {
   "cell_type": "code",
   "execution_count": null,
   "metadata": {
    "hidden": true
   },
   "outputs": [],
   "source": [
    "y=np.array(temp.Confirmed)\n",
    "x=np.array(temp.index)"
   ]
  },
  {
   "cell_type": "code",
   "execution_count": null,
   "metadata": {
    "hidden": true
   },
   "outputs": [],
   "source": [
    "def logistic_model(x,a,b,c):\n",
    "    return c/(1+np.exp(-(x-b)/a))\n",
    "\n",
    "fit = curve_fit(logistic_model,x,y,p0=[2,10,500])\n",
    "fit"
   ]
  },
  {
   "cell_type": "code",
   "execution_count": null,
   "metadata": {
    "hidden": true
   },
   "outputs": [],
   "source": [
    "errors = [np.sqrt(fit[1][i][i]) for i in [0,1,2]]\n",
    "errors"
   ]
  },
  {
   "cell_type": "code",
   "execution_count": null,
   "metadata": {
    "hidden": true
   },
   "outputs": [],
   "source": [
    "a,b,c = [x for x in fit[0]]\n",
    "sol = int(fsolve(lambda x : logistic_model(x,a,b,c) - int(c),b))\n",
    "sol"
   ]
  },
  {
   "cell_type": "code",
   "execution_count": null,
   "metadata": {
    "hidden": true
   },
   "outputs": [],
   "source": [
    "def exponential_model(x,a,b,c):\n",
    "    return a*np.exp(b*(x-c))\n",
    "\n",
    "exp_fit = curve_fit(exponential_model,x,y,p0=[1,1,1])\n",
    "exp_fit"
   ]
  },
  {
   "cell_type": "code",
   "execution_count": null,
   "metadata": {
    "hidden": true
   },
   "outputs": [],
   "source": [
    "errors = [np.sqrt(exp_fit[1][i][i]) for i in [0,1,2]]\n",
    "errors"
   ]
  },
  {
   "cell_type": "code",
   "execution_count": null,
   "metadata": {
    "hidden": true
   },
   "outputs": [],
   "source": [
    "# pred_x = list(range(max(x),sol))\n",
    "pred_x = list(range(max(x),sol))\n",
    "lim = np.unique(list(x)+pred_x)\n",
    "lim1 = list(x)+list(range(max(x)+1,max(x)+5))\n",
    "plt.rcParams['figure.figsize'] = [10, 7]\n",
    "plt.rc('font', size=14)\n",
    "# Real data\n",
    "plt.scatter(x,y,label=\"Real data\",color=\"red\")\n",
    "# Predicted logistic curve\n",
    "plt.plot(lim, [logistic_model(i,fit[0][0],fit[0][1],fit[0][2]) for i in lim], label=\"Logistic model\" )\n",
    "# Predicted exponential curve\n",
    "plt.plot(lim1, [exponential_model(i,exp_fit[0][0],exp_fit[0][1],exp_fit[0][2]) for i in lim1], label=\"Exponential model\" )\n",
    "plt.legend()\n",
    "plt.xlabel(\"Days since 21 January 2020\")\n",
    "plt.ylabel(\"Total number of infected people\")\n",
    "plt.show()"
   ]
  },
  {
   "cell_type": "code",
   "execution_count": null,
   "metadata": {
    "hidden": true
   },
   "outputs": [],
   "source": []
  },
  {
   "cell_type": "code",
   "execution_count": null,
   "metadata": {
    "hidden": true
   },
   "outputs": [],
   "source": [
    "y=np.array(temp.Confirmed)\n",
    "x=np.array(temp.index)"
   ]
  },
  {
   "cell_type": "code",
   "execution_count": null,
   "metadata": {
    "hidden": true
   },
   "outputs": [],
   "source": [
    "y"
   ]
  },
  {
   "cell_type": "code",
   "execution_count": null,
   "metadata": {
    "hidden": true
   },
   "outputs": [],
   "source": [
    "st.logistic.fit(y,loc=200,scale=100)"
   ]
  },
  {
   "cell_type": "code",
   "execution_count": null,
   "metadata": {
    "hidden": true
   },
   "outputs": [],
   "source": [
    "?curve_fit"
   ]
  },
  {
   "cell_type": "code",
   "execution_count": null,
   "metadata": {
    "hidden": true
   },
   "outputs": [],
   "source": []
  },
  {
   "cell_type": "code",
   "execution_count": null,
   "metadata": {
    "hidden": true
   },
   "outputs": [],
   "source": []
  },
  {
   "cell_type": "code",
   "execution_count": null,
   "metadata": {
    "hidden": true
   },
   "outputs": [],
   "source": []
  },
  {
   "cell_type": "code",
   "execution_count": null,
   "metadata": {
    "hidden": true
   },
   "outputs": [],
   "source": []
  },
  {
   "cell_type": "code",
   "execution_count": null,
   "metadata": {
    "hidden": true
   },
   "outputs": [],
   "source": []
  },
  {
   "cell_type": "code",
   "execution_count": null,
   "metadata": {
    "hidden": true
   },
   "outputs": [],
   "source": []
  },
  {
   "cell_type": "code",
   "execution_count": null,
   "metadata": {
    "hidden": true
   },
   "outputs": [],
   "source": [
    "plt.figure(figsize=(10,8))\n",
    "ax = temp.Confirmed.plot(kind='bar')\n",
    "plt.show()"
   ]
  },
  {
   "cell_type": "code",
   "execution_count": null,
   "metadata": {
    "hidden": true
   },
   "outputs": [],
   "source": [
    "def func(x, a, b, c):\n",
    "  #return a * np.exp(-b * x) + c\n",
    "  return a * np.log(b * x) + c\n",
    "\n",
    "x = np.array(temp.New_case)\n",
    "y = np.array(temp.index)\n",
    "\n",
    "popt, pcov = scipy.optimize.curve_fit(func, x, y)"
   ]
  },
  {
   "cell_type": "code",
   "execution_count": null,
   "metadata": {
    "hidden": true
   },
   "outputs": [],
   "source": [
    "pcov"
   ]
  },
  {
   "cell_type": "code",
   "execution_count": null,
   "metadata": {
    "hidden": true
   },
   "outputs": [],
   "source": [
    "def func(x, a, b, c,d):\n",
    "  #return a * np.exp(-b * x) + c\n",
    "  return a * np.log(b * x*x +c*x) + d\n",
    "\n",
    "x = np.array(temp.New_case)\n",
    "y = np.array(temp.index)\n",
    "\n",
    "popt, pcov = scipy.optimize.curve_fit(func, x, y)\n",
    "\n",
    "plt.figure(figsize=(12,6))\n",
    "plt.plot(x, y, 'ko', label=\"Original Incident Data\")\n",
    "plt.plot(x, func(x, *popt), 'r-', label=\"Fitted Curve\")\n",
    "plt.legend()\n",
    "plt.show()"
   ]
  },
  {
   "cell_type": "code",
   "execution_count": null,
   "metadata": {
    "hidden": true
   },
   "outputs": [],
   "source": []
  }
 ],
 "metadata": {
  "kernelspec": {
   "display_name": "Python 3",
   "language": "python",
   "name": "python3"
  },
  "language_info": {
   "codemirror_mode": {
    "name": "ipython",
    "version": 3
   },
   "file_extension": ".py",
   "mimetype": "text/x-python",
   "name": "python",
   "nbconvert_exporter": "python",
   "pygments_lexer": "ipython3",
   "version": "3.8.1"
  },
  "toc": {
   "base_numbering": 1,
   "nav_menu": {},
   "number_sections": true,
   "sideBar": true,
   "skip_h1_title": false,
   "title_cell": "Table of Contents",
   "title_sidebar": "Contents",
   "toc_cell": false,
   "toc_position": {
    "height": "calc(100% - 180px)",
    "left": "10px",
    "top": "150px",
    "width": "249px"
   },
   "toc_section_display": true,
   "toc_window_display": true
  },
  "varInspector": {
   "cols": {
    "lenName": 16,
    "lenType": 16,
    "lenVar": 40
   },
   "kernels_config": {
    "python": {
     "delete_cmd_postfix": "",
     "delete_cmd_prefix": "del ",
     "library": "var_list.py",
     "varRefreshCmd": "print(var_dic_list())"
    },
    "r": {
     "delete_cmd_postfix": ") ",
     "delete_cmd_prefix": "rm(",
     "library": "var_list.r",
     "varRefreshCmd": "cat(var_dic_list()) "
    }
   },
   "types_to_exclude": [
    "module",
    "function",
    "builtin_function_or_method",
    "instance",
    "_Feature"
   ],
   "window_display": false
  }
 },
 "nbformat": 4,
 "nbformat_minor": 4
}
